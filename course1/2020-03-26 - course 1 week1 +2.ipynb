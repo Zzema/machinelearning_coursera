{
 "cells": [
  {
   "cell_type": "markdown",
   "metadata": {},
   "source": [
    "# Машинное обучение и анализ данных\n",
    "## Математика и Python\n",
    "Задание 1"
   ]
  },
  {
   "cell_type": "markdown",
   "metadata": {},
   "source": []
  },
  {
   "cell_type": "code",
   "execution_count": 8,
   "metadata": {},
   "outputs": [
    {
     "name": "stdout",
     "output_type": "stream",
     "text": [
      "Задание 1 выолнено\n"
     ]
    }
   ],
   "source": [
    "print(\"Задание 1 выолнено\")"
   ]
  },
  {
   "cell_type": "code",
   "execution_count": 25,
   "metadata": {},
   "outputs": [
    {
     "data": {
      "text/plain": [
       "array([0., 1.])"
      ]
     },
     "execution_count": 25,
     "metadata": {},
     "output_type": "execute_result"
    }
   ],
   "source": [
    "import numpy as np\n",
    "\n",
    "a = np.eye(4, 5)\n",
    "a[[0,3],[1, 3]]"
   ]
  },
  {
   "cell_type": "markdown",
   "metadata": {},
   "source": [
    "# C1W3"
   ]
  },
  {
   "cell_type": "code",
   "execution_count": null,
   "metadata": {},
   "outputs": [],
   "source": []
  },
  {
   "cell_type": "code",
   "execution_count": 50,
   "metadata": {},
   "outputs": [
    {
     "data": {
      "text/html": [
       "<div>\n",
       "<style scoped>\n",
       "    .dataframe tbody tr th:only-of-type {\n",
       "        vertical-align: middle;\n",
       "    }\n",
       "\n",
       "    .dataframe tbody tr th {\n",
       "        vertical-align: top;\n",
       "    }\n",
       "\n",
       "    .dataframe thead th {\n",
       "        text-align: right;\n",
       "    }\n",
       "</style>\n",
       "<table border=\"1\" class=\"dataframe\">\n",
       "  <thead>\n",
       "    <tr style=\"text-align: right;\">\n",
       "      <th></th>\n",
       "      <th>text</th>\n",
       "    </tr>\n",
       "  </thead>\n",
       "  <tbody>\n",
       "    <tr>\n",
       "      <th>0</th>\n",
       "      <td>in comparison to dogs, cats have not undergone...</td>\n",
       "    </tr>\n",
       "    <tr>\n",
       "      <th>1</th>\n",
       "      <td>as cat simply catenates streams of bytes, it c...</td>\n",
       "    </tr>\n",
       "    <tr>\n",
       "      <th>2</th>\n",
       "      <td>a common interactive use of cat for a single f...</td>\n",
       "    </tr>\n",
       "    <tr>\n",
       "      <th>3</th>\n",
       "      <td>cats can hear sounds too faint or too high in ...</td>\n",
       "    </tr>\n",
       "    <tr>\n",
       "      <th>4</th>\n",
       "      <td>in one, people deliberately tamed cats in a pr...</td>\n",
       "    </tr>\n",
       "  </tbody>\n",
       "</table>\n",
       "</div>"
      ],
      "text/plain": [
       "                                                text\n",
       "0  in comparison to dogs, cats have not undergone...\n",
       "1  as cat simply catenates streams of bytes, it c...\n",
       "2  a common interactive use of cat for a single f...\n",
       "3  cats can hear sounds too faint or too high in ...\n",
       "4  in one, people deliberately tamed cats in a pr..."
      ]
     },
     "execution_count": 50,
     "metadata": {},
     "output_type": "execute_result"
    }
   ],
   "source": [
    "import pandas as pd\n",
    "import re\n",
    "txt = pd.read_csv('./coursera/course1/2020-03-26 - c1w3.txt', sep=\"\\n\", header=None, names=['text'])\n",
    "txt[\"text\"] = txt[\"text\"].str.lower()\n",
    "txt.head()"
   ]
  },
  {
   "cell_type": "code",
   "execution_count": 99,
   "metadata": {},
   "outputs": [
    {
     "name": "stdout",
     "output_type": "stream",
     "text": [
      "{'in': 0, 'comparison': 1, 'to': 2, 'dogs': 3, 'cats': 4, 'have': 5, 'not': 6, 'undergone': 7, 'major': 8, 'changes': 9, 'during': 10, 'the': 11, 'domestication': 12, 'process': 13, 'as': 14, 'cat': 15, 'simply': 16, 'catenates': 17, 'streams': 18, 'of': 19, 'bytes': 20, 'it': 21, 'can': 22, 'be': 23, 'also': 24, 'used': 25, 'concatenate': 26, 'binary': 27, 'files': 28, 'where': 29, 'will': 30, 'just': 31, 'sequence': 32, 'a': 33, 'common': 34, 'interactive': 35, 'use': 36, 'for': 37, 'single': 38, 'file': 39, 'is': 40, 'output': 41, 'content': 42, 'standard': 43, 'hear': 44, 'sounds': 45, 'too': 46, 'faint': 47, 'or': 48, 'high': 49, 'frequency': 50, 'human': 51, 'ears': 52, 'such': 53, 'those': 54, 'made': 55, 'by': 56, 'mice': 57, 'and': 58, 'other': 59, 'small': 60, 'animals': 61, 'one': 62, 'people': 63, 'deliberately': 64, 'tamed': 65, 'artificial': 66, 'selection': 67, 'they': 68, 'were': 69, 'useful': 70, 'predators': 71, 'vermin': 72, 'domesticated': 73, 'its': 74, 'closest': 75, 'wild': 76, 'ancestor': 77, 'are': 78, 'both': 79, 'diploid': 80, 'organisms': 81, 'that': 82, 'possess': 83, 'chromosomes': 84, 'roughly': 85, 'genes': 86, 'domestic': 87, 'similar': 88, 'size': 89, 'members': 90, 'genus': 91, 'felis': 92, 'typically': 93, 'weighing': 94, 'between': 95, 'kg': 96, 'lb': 97, 'however': 98, 'if': 99, 'piped': 100, 'redirected': 101, 'unnecessary': 102, 'with': 103, 'named': 104, 'safer': 105, 'error': 106, 'concern': 107, 'wrong': 108, 'default': 109, 'redirection': 110, 'symbol': 111, 'instead': 112, 'often': 113, 'adjacent': 114, 'on': 115, 'keyboards': 116, 'may': 117, 'permanently': 118, 'delete': 119, 'you': 120, 'needing': 121, 'read': 122, 'terms': 123, 'legibility': 124, 'commands': 125, 'starting': 126, 'connected': 127, 'pipes': 128, 'has': 129, 'clear': 130, 'left': 131, 'right': 132, 'flow': 133, 'information': 134, 'command': 135, 'basic': 136, 'learned': 137, 'when': 138, 'started': 139, 'unix': 140, 'linux': 141, 'world': 142, 'using': 143, 'lines': 144, 'received': 145, 'from': 146, 'stdin': 147, 'new': 148, 'symbols': 149, 'type': 150, 'without': 151, 'any': 152, 'arguments': 153, 'receives': 154, 'displays': 155, 'stdout': 156, 'leopard': 157, 'was': 158, 'released': 159, 'october': 160, 'successor': 161, 'tiger': 162, 'version': 163, 'available': 164, 'two': 165, 'editions': 166, 'according': 167, 'apple': 168, 'contains': 169, 'over': 170, 'enhancements': 171, 'predecessor': 172, 'mac': 173, 'os': 174, 'x': 175, 'mid': 176, 'some': 177, 'computers': 178, 'firmware': 179, 'factory': 180, 'installed': 181, 'which': 182, 'no': 183, 'longer': 184, 'allow': 185, 'installation': 186, 'since': 187, 'moved': 188, 'intel': 189, 'processors': 190, 'their': 191, 'osx': 192, 'community': 193, 'developed': 194, 'now': 195, 'allows': 196, 'later': 197, 'releases': 198, 'non': 199, 'based': 200, 'mountain': 201, 'lion': 202, 'july': 203, 'purchase': 204, 'download': 205, 'through': 206, 's': 207, 'app': 208, 'store': 209, 'part': 210, 'switch': 211, 'releasing': 212, 'versions': 213, 'online': 214, 'every': 215, 'year': 216, 'patch': 217, 'three': 218, 'most': 219, 'recent': 220, 'safari': 221, 'running': 222, 'yosemite': 223, 'mavericks': 224, 'release': 225, 'marks': 226, 'second': 227, 'time': 228, 'offered': 229, 'an': 230, 'incremental': 231, 'upgrade': 232, 'rather': 233, 'than': 234, 'entirely': 235, 'installs': 236, 'place': 237, 'so': 238, 'won': 239, 't': 240, 'need': 241, 'create': 242, 'separate': 243, 'disk': 244, 'run': 245, 'off': 246, 'external': 247, 'drive': 248, 'fifth': 249, 'update': 250, 'features': 251, 'more': 252, 'count': 253}\n"
     ]
    }
   ],
   "source": [
    "s=0\n",
    "dict = {\"in\":0}\n",
    "for i in range(len(txt)): #пробегаемся по строкам\n",
    "    line=re.split('[^a-z]', txt.iloc[i,0])\n",
    "    line=list(filter(lambda a: a != '', line))\n",
    "    for i in line: # пробегаемся по словам в строке\n",
    "        if i not in dict:\n",
    "            s=s+1\n",
    "            dict[i] = s\n",
    "#нашли справочник"
   ]
  },
  {
   "cell_type": "code",
   "execution_count": 120,
   "metadata": {},
   "outputs": [
    {
     "data": {
      "text/plain": [
       "(22, 254)"
      ]
     },
     "execution_count": 120,
     "metadata": {},
     "output_type": "execute_result"
    }
   ],
   "source": [
    "#строим на справочнике матрицу \n",
    "mas=np.zeros((len(txt),s+1))\n",
    "mas.shape"
   ]
  },
  {
   "cell_type": "code",
   "execution_count": 121,
   "metadata": {},
   "outputs": [
    {
     "data": {
      "text/plain": [
       "array([[1., 1., 1., ..., 0., 0., 0.],\n",
       "       [0., 0., 1., ..., 0., 0., 0.],\n",
       "       [0., 0., 2., ..., 0., 0., 0.],\n",
       "       ...,\n",
       "       [0., 0., 0., ..., 0., 0., 0.],\n",
       "       [1., 0., 1., ..., 0., 0., 0.],\n",
       "       [0., 0., 1., ..., 1., 1., 1.]])"
      ]
     },
     "execution_count": 121,
     "metadata": {},
     "output_type": "execute_result"
    }
   ],
   "source": [
    "for i in range(len(txt)):\n",
    "    line=re.split('[^a-z]', txt.iloc[i,0])\n",
    "    line=list(filter(lambda a: a != '', line))\n",
    "    for j in line: # пробегаемся по словам в строке\n",
    "        mas[i,dict[j] ]=mas[i,dict[j] ]+1\n",
    "mas"
   ]
  },
  {
   "cell_type": "code",
   "execution_count": 129,
   "metadata": {},
   "outputs": [
    {
     "data": {
      "text/plain": [
       "[0.0,\n",
       " 0.9527544408738466,\n",
       " 0.8644738145642124,\n",
       " 0.8951715163278082,\n",
       " 0.7770887149698589,\n",
       " 0.9402385695332803,\n",
       " 0.7327387580875756,\n",
       " 0.9258750683338899,\n",
       " 0.8842724875284311,\n",
       " 0.9055088817476932,\n",
       " 0.8328165362273942,\n",
       " 0.8804771390665607,\n",
       " 0.8396432548525454,\n",
       " 0.8703592552895671,\n",
       " 0.8740118423302576,\n",
       " 0.9442721787424647,\n",
       " 0.8406361854220809,\n",
       " 0.956644501523794,\n",
       " 0.9442721787424647,\n",
       " 0.8885443574849294,\n",
       " 0.8427572744917122,\n",
       " 0.8250364469440588]"
      ]
     },
     "execution_count": 129,
     "metadata": {},
     "output_type": "execute_result"
    }
   ],
   "source": [
    "from scipy.spatial import distance\n",
    "dist = []\n",
    "for i in range(len(txt)):\n",
    "    dist.append(distance.cosine(mas[0], mas[i]))\n",
    "dist"
   ]
  },
  {
   "cell_type": "code",
   "execution_count": 140,
   "metadata": {
    "scrolled": true
   },
   "outputs": [
    {
     "data": {
      "text/plain": [
       "array([1., 0., 1., 0., 1., 0., 0., 0., 0., 0., 0., 2., 0., 0., 0., 0., 0.,\n",
       "       0., 0., 1., 0., 0., 0., 0., 0., 0., 0., 0., 0., 0., 0., 0., 0., 0.,\n",
       "       0., 0., 0., 0., 0., 0., 0., 0., 0., 0., 0., 0., 0., 0., 0., 0., 0.,\n",
       "       0., 0., 0., 0., 0., 0., 0., 2., 1., 0., 0., 0., 0., 0., 0., 0., 0.,\n",
       "       0., 0., 0., 0., 0., 0., 0., 0., 0., 0., 1., 0., 0., 0., 0., 0., 0.,\n",
       "       0., 0., 1., 1., 1., 1., 1., 1., 1., 1., 1., 1., 1., 0., 0., 0., 0.,\n",
       "       0., 0., 0., 0., 0., 0., 0., 0., 0., 0., 0., 0., 0., 0., 0., 0., 0.,\n",
       "       0., 0., 0., 0., 0., 0., 0., 0., 0., 0., 0., 0., 0., 0., 0., 0., 0.,\n",
       "       0., 0., 0., 0., 0., 0., 0., 0., 0., 0., 0., 0., 0., 0., 0., 0., 0.,\n",
       "       0., 0., 0., 0., 0., 0., 0., 0., 0., 0., 0., 0., 0., 0., 0., 0., 0.,\n",
       "       0., 0., 0., 0., 0., 0., 0., 0., 0., 0., 0., 0., 0., 0., 0., 0., 0.,\n",
       "       0., 0., 0., 0., 0., 0., 0., 0., 0., 0., 0., 0., 0., 0., 0., 0., 0.,\n",
       "       0., 0., 0., 0., 0., 0., 0., 0., 0., 0., 0., 0., 0., 0., 0., 0., 0.,\n",
       "       0., 0., 0., 0., 0., 0., 0., 0., 0., 0., 0., 0., 0., 0., 0., 0., 0.,\n",
       "       0., 0., 0., 0., 0., 0., 0., 0., 0., 0., 0., 0., 0., 0., 0., 0.])"
      ]
     },
     "execution_count": 140,
     "metadata": {},
     "output_type": "execute_result"
    }
   ],
   "source": [
    "mas[6]"
   ]
  },
  {
   "cell_type": "code",
   "execution_count": 144,
   "metadata": {},
   "outputs": [],
   "source": [
    "str=\"4 6\"\n",
    "\n",
    "file = open('./coursera/course1/submission.txt', \"w\") \n",
    "file.write(str) \n",
    "file.close() "
   ]
  },
  {
   "cell_type": "markdown",
   "metadata": {},
   "source": [
    "# Задание 2"
   ]
  },
  {
   "cell_type": "code",
   "execution_count": 158,
   "metadata": {},
   "outputs": [
    {
     "name": "stdout",
     "output_type": "stream",
     "text": [
      "3.252216865271419\n",
      "0.6352214195786656\n"
     ]
    }
   ],
   "source": [
    "x=[1,15,8]\n",
    "\n",
    "y=[0,0,0,0,0,0,0,0]\n",
    "\n",
    "for i in range(len(x)):\n",
    "    y[i]= np.sin(x[i] / 5) * np.exp(x[i] / 10) + 5 * np.exp(-x[i] / 2)\n",
    "    print(y[i])\n",
    "f1=np.linalg.solve([[1,1],[1,15]],y[0:2])\n",
    "\n",
    "f2=np.linalg.solve([[1,1,1],[1,15,225],[1,8,64]],y[0:3])\n",
    "f2\n"
   ]
  },
  {
   "cell_type": "code",
   "execution_count": 180,
   "metadata": {},
   "outputs": [
    {
     "name": "stdout",
     "output_type": "stream",
     "text": [
      "3.252216865271419\n",
      "1.7468459495903677\n",
      "2.5054164070002463\n",
      "0.6352214195786656\n"
     ]
    },
    {
     "data": {
      "text/plain": [
       "array([ 4.36264154, -1.29552587,  0.19333685, -0.00823565])"
      ]
     },
     "execution_count": 180,
     "metadata": {},
     "output_type": "execute_result"
    }
   ],
   "source": [
    "x=[1,4,10,15]\n",
    "for i in range(len(x)):\n",
    "    y[i]= np.sin(x[i] / 5) * np.exp(x[i] / 10) + 5 * np.exp(-x[i] / 2)\n",
    "    print(y[i])\n",
    "f3=np.linalg.solve([[1,1,1,1],[1,4,16,64],[1,10,100,1000],[1,15,225,15*15*15],],y[0:4]) \n",
    "f3"
   ]
  },
  {
   "cell_type": "code",
   "execution_count": 172,
   "metadata": {},
   "outputs": [],
   "source": [
    "%matplotlib inline\n",
    "from matplotlib import pylab as plt"
   ]
  },
  {
   "cell_type": "code",
   "execution_count": 201,
   "metadata": {},
   "outputs": [
    {
     "data": {
      "image/png": "[encoded data removed]",
      "text/plain": [
       "<Figure size 432x288 with 1 Axes>"
      ]
     },
     "metadata": {
      "needs_background": "light"
     },
     "output_type": "display_data"
    }
   ],
   "source": [
    "x1 = np.arange(0, 30, 0.1)\n",
    "y1 = f1[0]+f1[1]*x1\n",
    "y2 = f2[0]+f2[1]*x1+f2[2]*x1*x1\n",
    "y3 = f3[0]+f3[1]*x1+f3[2]*x1*x1+f3[3]*x1*x1*x1\n",
    "y0 = np.sin(x1 / 5) * np.exp(x1 / 10) + 5 * np.exp(-x1 / 2)\n",
    "\n",
    "plt.plot(x1,y0)\n",
    "#plt.plot(x1, y1)\n",
    "#plt.plot(x1, y2)\n",
    "#plt.plot(x1, y3)\n",
    "plt.show()"
   ]
  },
  {
   "cell_type": "code",
   "execution_count": 197,
   "metadata": {},
   "outputs": [],
   "source": [
    "str=np.array2string(f3, formatter={'float_kind':lambda f3: \"%.2f\" % f3})\n",
    "\n",
    "file = open('./coursera/course1/submission2.txt', \"w\") \n",
    "file.write(str[1:-1]) \n",
    "file.close() "
   ]
  },
  {
   "cell_type": "markdown",
   "metadata": {},
   "source": []
  },
  {
   "cell_type": "code",
   "execution_count": null,
   "metadata": {},
   "outputs": [],
   "source": []
  }
 ],
 "metadata": {
  "kernelspec": {
   "display_name": "Python 3",
   "language": "python",
   "name": "python3"
  },
  "language_info": {
   "codemirror_mode": {
    "name": "ipython",
    "version": 3
   },
   "file_extension": ".py",
   "mimetype": "text/x-python",
   "name": "python",
   "nbconvert_exporter": "python",
   "pygments_lexer": "ipython3",
   "version": "3.7.1"
  }
 },
 "nbformat": 4,
 "nbformat_minor": 2
}
