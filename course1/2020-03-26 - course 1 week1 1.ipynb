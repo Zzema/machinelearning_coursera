{
 "cells": [
  {
   "cell_type": "markdown",
   "metadata": {},
   "source": [
    "# Машинное обучение и анализ данных\n",
    "## Математика и Python\n",
    "Задание 1"
   ]
  },
  {
   "cell_type": "markdown",
   "metadata": {},
   "source": []
  },
  {
   "cell_type": "code",
   "execution_count": 8,
   "metadata": {},
   "outputs": [
    {
     "name": "stdout",
     "output_type": "stream",
     "text": [
      "Задание 1 выолнено\n"
     ]
    }
   ],
   "source": [
    "print(\"Задание 1 выолнено\")"
   ]
  },
  {
   "cell_type": "code",
   "execution_count": 25,
   "metadata": {},
   "outputs": [
    {
     "data": {
      "text/plain": [
       "array([0., 1.])"
      ]
     },
     "execution_count": 25,
     "metadata": {},
     "output_type": "execute_result"
    }
   ],
   "source": [
    "import numpy as np\n",
    "\n",
    "a = np.eye(4, 5)\n",
    "a[[0,3],[1, 3]]"
   ]
  },
  {
   "cell_type": "markdown",
   "metadata": {},
   "source": [
    "# C1W3"
   ]
  },
  {
   "cell_type": "code",
   "execution_count": null,
   "metadata": {},
   "outputs": [],
   "source": [
    "df = pd.read_csv('../input/telecom_churn.csv')\n",
    "df.head()"
   ]
  },
  {
   "cell_type": "code",
   "execution_count": 27,
   "metadata": {},
   "outputs": [
    {
     "data": {
      "text/plain": [
       "['.anaconda',\n",
       " '.conda',\n",
       " '.condarc',\n",
       " '.ipynb_checkpoints',\n",
       " '.ipython',\n",
       " '.jupyter',\n",
       " '.matplotlib',\n",
       " '.node_repl_history',\n",
       " '2020-03-26 - course 1 week1 1.ipynb',\n",
       " '2020-03-26 - course 1 week1.ipynb',\n",
       " 'AppData',\n",
       " 'Application Data',\n",
       " 'Contacts',\n",
       " 'Cookies',\n",
       " 'data',\n",
       " 'Desktop',\n",
       " 'Documents',\n",
       " 'Downloads',\n",
       " 'Favorites',\n",
       " 'Google Диск',\n",
       " 'Links',\n",
       " 'Local Settings',\n",
       " 'Music',\n",
       " 'NetHood',\n",
       " 'NTUSER.DAT',\n",
       " 'ntuser.dat.LOG1',\n",
       " 'ntuser.dat.LOG2',\n",
       " 'NTUSER.DAT{6a231296-71ec-11e4-80c2-0026b94a1bc5}.TxR.0.regtrans-ms',\n",
       " 'NTUSER.DAT{6a231296-71ec-11e4-80c2-0026b94a1bc5}.TxR.1.regtrans-ms',\n",
       " 'NTUSER.DAT{6a231296-71ec-11e4-80c2-0026b94a1bc5}.TxR.2.regtrans-ms',\n",
       " 'NTUSER.DAT{6a231296-71ec-11e4-80c2-0026b94a1bc5}.TxR.blf',\n",
       " 'NTUSER.DAT{6a231297-71ec-11e4-80c2-0026b94a1bc5}.TM.blf',\n",
       " 'NTUSER.DAT{6a231297-71ec-11e4-80c2-0026b94a1bc5}.TMContainer00000000000000000001.regtrans-ms',\n",
       " 'NTUSER.DAT{6a231297-71ec-11e4-80c2-0026b94a1bc5}.TMContainer00000000000000000002.regtrans-ms',\n",
       " 'ntuser.ini',\n",
       " 'ntuser.pol',\n",
       " 'OneDrive',\n",
       " 'Pictures',\n",
       " 'pixiedust.db',\n",
       " 'PrintHood',\n",
       " 'Recent',\n",
       " 'Saved Games',\n",
       " 'seaborn-data',\n",
       " 'Searches',\n",
       " 'SendTo',\n",
       " 'Tracing',\n",
       " 'Videos',\n",
       " 'главное меню',\n",
       " 'Мои документы',\n",
       " 'Шаблоны']"
      ]
     },
     "execution_count": 27,
     "metadata": {},
     "output_type": "execute_result"
    }
   ],
   "source": [
    "import os\n",
    "os.listdir(path=\".\") "
   ]
  }
 ],
 "metadata": {
  "kernelspec": {
   "display_name": "Python 3",
   "language": "python",
   "name": "python3"
  },
  "language_info": {
   "codemirror_mode": {
    "name": "ipython",
    "version": 3
   },
   "file_extension": ".py",
   "mimetype": "text/x-python",
   "name": "python",
   "nbconvert_exporter": "python",
   "pygments_lexer": "ipython3",
   "version": "3.7.1"
  }
 },
 "nbformat": 4,
 "nbformat_minor": 2
}
