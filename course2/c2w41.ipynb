{
 "cells": [
  {
   "cell_type": "code",
   "execution_count": 1,
   "metadata": {},
   "outputs": [],
   "source": [
    "from sklearn.datasets import load_digits\n",
    "import numpy as np"
   ]
  },
  {
   "cell_type": "code",
   "execution_count": 2,
   "metadata": {},
   "outputs": [],
   "source": [
    "digits=load_digits()"
   ]
  },
  {
   "cell_type": "code",
   "execution_count": 3,
   "metadata": {},
   "outputs": [],
   "source": [
    "X=digits.data\n",
    "y=digits.target"
   ]
  },
  {
   "cell_type": "code",
   "execution_count": 4,
   "metadata": {},
   "outputs": [
    {
     "data": {
      "text/plain": [
       "((1797, 64),\n",
       " 0,\n",
       " array([ 0.,  0.,  5., 13.,  9.,  1.,  0.,  0.,  0.,  0., 13., 15., 10.,\n",
       "        15.,  5.,  0.,  0.,  3., 15.,  2.,  0., 11.,  8.,  0.,  0.,  4.,\n",
       "        12.,  0.,  0.,  8.,  8.,  0.,  0.,  5.,  8.,  0.,  0.,  9.,  8.,\n",
       "         0.,  0.,  4., 11.,  0.,  1., 12.,  7.,  0.,  0.,  2., 14.,  5.,\n",
       "        10., 12.,  0.,  0.,  0.,  0.,  6., 13., 10.,  0.,  0.,  0.]))"
      ]
     },
     "execution_count": 4,
     "metadata": {},
     "output_type": "execute_result"
    }
   ],
   "source": [
    "np.shape(X)  , y[0],X[0]"
   ]
  },
  {
   "cell_type": "code",
   "execution_count": 5,
   "metadata": {},
   "outputs": [
    {
     "data": {
      "text/plain": [
       "<Figure size 640x480 with 0 Axes>"
      ]
     },
     "metadata": {},
     "output_type": "display_data"
    },
    {
     "data": {
      "text/plain": [
       "<Figure size 480x480 with 1 Axes>"
      ]
     },
     "metadata": {},
     "output_type": "display_data"
    }
   ],
   "source": [
    "import matplotlib.pyplot as plt \n",
    "plt.gray() \n",
    "plt.matshow(digits.images[0]) \n",
    "plt.show() "
   ]
  },
  {
   "cell_type": "code",
   "execution_count": 6,
   "metadata": {},
   "outputs": [
    {
     "data": {
      "text/plain": [
       "DecisionTreeClassifier(class_weight=None, criterion='gini', max_depth=None,\n",
       "            max_features=None, max_leaf_nodes=None,\n",
       "            min_impurity_decrease=0.0, min_impurity_split=None,\n",
       "            min_samples_leaf=1, min_samples_split=2,\n",
       "            min_weight_fraction_leaf=0.0, presort=False, random_state=None,\n",
       "            splitter='best')"
      ]
     },
     "execution_count": 6,
     "metadata": {},
     "output_type": "execute_result"
    }
   ],
   "source": [
    "from sklearn.model_selection import cross_val_score\n",
    "import sklearn.model_selection as model_selection\n",
    "from sklearn.tree import DecisionTreeClassifier\n",
    "clf=DecisionTreeClassifier()\n",
    "(X_train,X_test,y_train,y_test)=model_selection.train_test_split(X,y)\n",
    "clf.fit(X_train,y_train)"
   ]
  },
  {
   "cell_type": "code",
   "execution_count": 7,
   "metadata": {},
   "outputs": [
    {
     "data": {
      "text/plain": [
       "((1347, 64), (450, 64), (1347,), (450,))"
      ]
     },
     "execution_count": 7,
     "metadata": {},
     "output_type": "execute_result"
    }
   ],
   "source": [
    "np.shape(X_train),np.shape(X_test),np.shape(y_train),np.shape(y_test)"
   ]
  },
  {
   "cell_type": "code",
   "execution_count": 8,
   "metadata": {},
   "outputs": [
    {
     "data": {
      "text/plain": [
       "(3.1355555555555554,\n",
       " 0.8288888888888889,\n",
       " array([9, 1, 9, 0, 6, 1, 6, 9, 7, 7, 0, 7, 8, 5, 5, 7, 4, 0, 2, 3, 6, 2,\n",
       "        8, 7, 1, 5, 3, 4, 5, 7, 0, 8, 6, 1, 2, 1, 6, 1, 7, 4, 0, 6, 2, 9,\n",
       "        9, 5, 1, 7, 6, 0, 3, 7, 9, 5, 4, 9, 5, 5, 9, 9, 6, 6, 3, 7, 6, 5,\n",
       "        4, 4, 2, 9, 6, 3, 3, 7, 7, 0, 2, 6, 9, 5, 3, 8, 2, 5, 8, 9, 5, 0,\n",
       "        7, 4, 4, 2, 4, 7, 4, 6, 4, 2, 2, 9, 1, 8, 5, 3, 9, 3, 1, 9, 6, 0,\n",
       "        0, 7, 1, 1, 7, 5, 5, 3, 6, 0, 3, 2, 1, 2, 8, 2, 3, 7, 9, 5, 9, 3,\n",
       "        4, 2, 7, 5, 7, 6, 1, 6, 8, 1, 5, 9, 7, 3, 4, 4, 2, 2, 4, 3, 0, 5,\n",
       "        9, 5, 7, 8, 1, 6, 1, 1, 8, 8, 1, 6, 8, 5, 6, 8, 8, 7, 3, 9, 4, 4,\n",
       "        4, 8, 2, 0, 8, 6, 0, 1, 2, 3, 3, 6, 9, 7, 5, 5, 4, 3, 9, 8, 2, 4,\n",
       "        5, 6, 2, 1, 3, 4, 5, 4, 3, 1, 1, 3, 2, 1, 9, 1, 5, 6, 1, 0, 3, 7,\n",
       "        0, 1, 7, 7, 3, 4, 9, 9, 8, 8, 0, 0, 6, 5, 9, 6, 7, 7, 4, 2, 5, 2,\n",
       "        3, 0, 4, 9, 0, 9, 0, 3, 1, 2, 8, 4, 6, 9, 6, 2, 8, 1, 1, 2, 5, 9,\n",
       "        3, 8, 7, 7, 0, 5, 8, 3, 0, 7, 5, 2, 7, 4, 6, 4, 9, 7, 3, 6, 7, 1,\n",
       "        8, 9, 2, 7, 8, 4, 8, 6, 1, 3, 6, 1, 7, 1, 5, 8, 8, 3, 2, 1, 2, 6,\n",
       "        1, 2, 3, 7, 3, 3, 9, 1, 8, 0, 0, 9, 1, 1, 4, 0, 3, 6, 7, 1, 4, 8,\n",
       "        6, 8, 5, 2, 9, 8, 8, 7, 8, 5, 3, 6, 1, 5, 5, 1, 5, 7, 4, 2, 1, 4,\n",
       "        4, 0, 5, 1, 5, 5, 8, 3, 8, 0, 2, 5, 5, 1, 2, 7, 3, 8, 6, 7, 4, 6,\n",
       "        6, 4, 5, 7, 5, 0, 5, 7, 8, 5, 4, 1, 6, 4, 4, 1, 7, 1, 0, 7, 9, 8,\n",
       "        7, 5, 4, 5, 8, 7, 5, 8, 8, 7, 4, 9, 2, 1, 8, 5, 5, 2, 5, 6, 0, 6,\n",
       "        5, 1, 6, 0, 3, 2, 9, 8, 8, 0, 9, 6, 9, 9, 5, 1, 2, 4, 7, 9, 6, 5,\n",
       "        5, 7, 8, 7, 3, 0, 8, 2, 5, 7]),\n",
       " array([9, 1, 9, 0, 6, 4, 6, 9, 7, 7, 0, 7, 8, 5, 5, 7, 9, 0, 1, 3, 6, 2,\n",
       "        8, 7, 1, 5, 3, 4, 5, 5, 0, 8, 1, 1, 9, 1, 6, 8, 7, 4, 0, 6, 2, 9,\n",
       "        9, 3, 1, 7, 6, 0, 3, 7, 9, 5, 4, 9, 5, 5, 9, 9, 9, 6, 3, 7, 6, 5,\n",
       "        4, 4, 8, 9, 4, 3, 3, 7, 7, 0, 6, 6, 7, 5, 3, 8, 2, 5, 8, 9, 5, 0,\n",
       "        7, 0, 4, 2, 4, 7, 4, 6, 4, 6, 3, 8, 1, 8, 5, 7, 7, 3, 1, 9, 6, 0,\n",
       "        0, 8, 1, 1, 7, 8, 5, 9, 4, 0, 3, 2, 1, 2, 1, 2, 3, 7, 9, 5, 9, 8,\n",
       "        4, 2, 3, 5, 7, 6, 1, 6, 8, 1, 5, 9, 7, 3, 4, 4, 8, 2, 4, 3, 0, 5,\n",
       "        9, 5, 7, 3, 1, 6, 1, 1, 7, 8, 1, 6, 8, 5, 6, 8, 8, 7, 3, 9, 4, 4,\n",
       "        4, 8, 2, 0, 2, 6, 0, 1, 2, 3, 3, 6, 9, 7, 5, 5, 4, 3, 9, 8, 2, 4,\n",
       "        5, 6, 8, 1, 8, 4, 5, 4, 3, 1, 1, 3, 2, 1, 9, 1, 5, 6, 1, 0, 3, 7,\n",
       "        0, 1, 7, 7, 3, 4, 9, 9, 3, 8, 0, 0, 6, 5, 9, 6, 3, 7, 4, 1, 5, 2,\n",
       "        3, 0, 4, 9, 0, 1, 0, 8, 1, 8, 8, 4, 6, 9, 6, 2, 8, 1, 1, 2, 5, 9,\n",
       "        1, 8, 7, 7, 0, 5, 9, 3, 0, 7, 5, 2, 7, 4, 6, 4, 9, 7, 9, 6, 8, 3,\n",
       "        8, 3, 2, 0, 7, 4, 8, 6, 1, 3, 6, 1, 7, 1, 5, 8, 8, 3, 2, 1, 2, 6,\n",
       "        1, 3, 3, 7, 3, 3, 9, 2, 8, 0, 0, 9, 1, 1, 4, 0, 3, 6, 7, 1, 4, 1,\n",
       "        6, 9, 5, 2, 9, 8, 3, 7, 8, 5, 3, 6, 3, 5, 5, 4, 5, 7, 1, 2, 1, 4,\n",
       "        4, 0, 5, 1, 5, 4, 8, 3, 2, 0, 6, 1, 5, 1, 8, 7, 3, 7, 6, 7, 4, 6,\n",
       "        6, 4, 5, 7, 5, 0, 5, 7, 8, 5, 4, 1, 6, 8, 4, 1, 3, 1, 0, 7, 3, 5,\n",
       "        4, 8, 4, 5, 8, 7, 5, 8, 8, 7, 4, 5, 2, 2, 4, 6, 5, 2, 5, 6, 4, 6,\n",
       "        5, 1, 6, 0, 3, 2, 9, 2, 8, 0, 9, 0, 9, 1, 5, 1, 8, 4, 7, 9, 6, 5,\n",
       "        5, 7, 8, 8, 3, 0, 8, 2, 4, 7]))"
      ]
     },
     "execution_count": 8,
     "metadata": {},
     "output_type": "execute_result"
    }
   ],
   "source": [
    "import sklearn.metrics as metrics\n",
    "metrics.mean_squared_error(y_test,clf.predict(X_test)) , metrics.accuracy_score(y_test,clf.predict(X_test)) , y_test, clf.predict(X_test)"
   ]
  },
  {
   "cell_type": "code",
   "execution_count": 9,
   "metadata": {},
   "outputs": [],
   "source": [
    "cross_val_score?\n"
   ]
  },
  {
   "cell_type": "markdown",
   "metadata": {},
   "source": [
    "### Задание 1"
   ]
  },
  {
   "cell_type": "code",
   "execution_count": 10,
   "metadata": {},
   "outputs": [
    {
     "data": {
      "text/plain": [
       "0.835194368986173"
      ]
     },
     "execution_count": 10,
     "metadata": {},
     "output_type": "execute_result"
    }
   ],
   "source": [
    "var=cross_val_score(clf,X,y,cv=10).mean() \n",
    "var"
   ]
  },
  {
   "cell_type": "code",
   "execution_count": 11,
   "metadata": {},
   "outputs": [],
   "source": [
    "def write_answer_1(var):\n",
    "    with open(\"subc2w411.txt\", \"w\") as fout:\n",
    "        fout.write(str(var))\n",
    "write_answer_1(var)        \n",
    "# place your code here"
   ]
  },
  {
   "cell_type": "markdown",
   "metadata": {},
   "source": [
    "### Задание 2"
   ]
  },
  {
   "cell_type": "code",
   "execution_count": 12,
   "metadata": {},
   "outputs": [],
   "source": [
    "from sklearn.ensemble import BaggingClassifier"
   ]
  },
  {
   "cell_type": "code",
   "execution_count": 13,
   "metadata": {},
   "outputs": [],
   "source": [
    "model=BaggingClassifier(base_estimator=clf,n_estimators=100)"
   ]
  },
  {
   "cell_type": "code",
   "execution_count": 14,
   "metadata": {},
   "outputs": [
    {
     "data": {
      "text/plain": [
       "0.9249035023960481"
      ]
     },
     "execution_count": 14,
     "metadata": {},
     "output_type": "execute_result"
    }
   ],
   "source": [
    "var2=cross_val_score(model,X,y,cv=10).mean() \n",
    "\n",
    "def write_answer_2(var):\n",
    "    with open(\"subc2w412.txt\", \"w\") as fout:\n",
    "        fout.write(str(var))\n",
    "write_answer_2(var2)   \n",
    "var2"
   ]
  },
  {
   "cell_type": "markdown",
   "metadata": {},
   "source": [
    "### Задание 3"
   ]
  },
  {
   "cell_type": "code",
   "execution_count": 15,
   "metadata": {},
   "outputs": [],
   "source": [
    "BaggingClassifier?"
   ]
  },
  {
   "cell_type": "code",
   "execution_count": 16,
   "metadata": {},
   "outputs": [
    {
     "data": {
      "text/plain": [
       "8.0"
      ]
     },
     "execution_count": 16,
     "metadata": {},
     "output_type": "execute_result"
    }
   ],
   "source": [
    "np.sqrt(np.shape(X)[1])"
   ]
  },
  {
   "cell_type": "code",
   "execution_count": 17,
   "metadata": {},
   "outputs": [],
   "source": [
    "model=BaggingClassifier(base_estimator=clf,n_estimators=100,max_features=8)"
   ]
  },
  {
   "cell_type": "code",
   "execution_count": 18,
   "metadata": {},
   "outputs": [
    {
     "data": {
      "text/plain": [
       "0.9315754431598975"
      ]
     },
     "execution_count": 18,
     "metadata": {},
     "output_type": "execute_result"
    }
   ],
   "source": [
    "var3=cross_val_score(model,X,y,cv=10).mean()\n",
    "def write_answer_2(var):\n",
    "    with open(\"subc2w413.txt\", \"w\") as fout:\n",
    "        fout.write(str(var))\n",
    "write_answer_2(var3)   \n",
    "var3"
   ]
  },
  {
   "cell_type": "markdown",
   "metadata": {},
   "source": [
    "### Задание 4"
   ]
  },
  {
   "cell_type": "code",
   "execution_count": 22,
   "metadata": {},
   "outputs": [],
   "source": [
    "clf2=DecisionTreeClassifier(max_features=8,random_state=1)"
   ]
  },
  {
   "cell_type": "code",
   "execution_count": 23,
   "metadata": {},
   "outputs": [
    {
     "data": {
      "text/plain": [
       "0.9544773623165452"
      ]
     },
     "execution_count": 23,
     "metadata": {},
     "output_type": "execute_result"
    }
   ],
   "source": [
    "\n",
    "model2=BaggingClassifier(base_estimator=clf2,n_estimators=100,random_state=0)\n",
    "var4=cross_val_score(model2,X,y,cv=10).mean()\n",
    "var4"
   ]
  },
  {
   "cell_type": "code",
   "execution_count": 24,
   "metadata": {},
   "outputs": [],
   "source": [
    "file=open(\"subc2w414.txt\",'w')\n",
    "file.write(str(var4))\n",
    "file.close()"
   ]
  },
  {
   "cell_type": "markdown",
   "metadata": {},
   "source": [
    "### Задание 5"
   ]
  },
  {
   "cell_type": "code",
   "execution_count": 37,
   "metadata": {},
   "outputs": [],
   "source": [
    "a=np.arange(start=1, stop=64, step=3)"
   ]
  },
  {
   "cell_type": "code",
   "execution_count": 38,
   "metadata": {},
   "outputs": [],
   "source": [
    "from sklearn.ensemble import RandomForestClassifier\n",
    "from sklearn.model_selection import GridSearchCV\n",
    "clf3=RandomForestClassifier(random_state=1)\n",
    "params={ 'n_estimators':[100],'max_features':a}\n",
    "search = GridSearchCV(clf3,params,cv=10)\n"
   ]
  },
  {
   "cell_type": "code",
   "execution_count": 39,
   "metadata": {},
   "outputs": [
    {
     "data": {
      "text/plain": [
       "GridSearchCV(cv=10, error_score='raise-deprecating',\n",
       "       estimator=RandomForestClassifier(bootstrap=True, class_weight=None, criterion='gini',\n",
       "            max_depth=None, max_features='auto', max_leaf_nodes=None,\n",
       "            min_impurity_decrease=0.0, min_impurity_split=None,\n",
       "            min_samples_leaf=1, min_samples_split=2,\n",
       "            min_weight_fraction_leaf=0.0, n_estimators='warn', n_jobs=None,\n",
       "            oob_score=False, random_state=1, verbose=0, warm_start=False),\n",
       "       fit_params=None, iid='warn', n_jobs=None,\n",
       "       param_grid={'n_estimators': [100], 'max_features': array([ 1,  4,  7, 10, 13, 16, 19, 22, 25, 28, 31, 34, 37, 40, 43, 46, 49,\n",
       "       52, 55, 58, 61])},\n",
       "       pre_dispatch='2*n_jobs', refit=True, return_train_score='warn',\n",
       "       scoring=None, verbose=0)"
      ]
     },
     "execution_count": 39,
     "metadata": {},
     "output_type": "execute_result"
    }
   ],
   "source": [
    "search.fit(X,y)"
   ]
  },
  {
   "cell_type": "code",
   "execution_count": 40,
   "metadata": {},
   "outputs": [
    {
     "name": "stderr",
     "output_type": "stream",
     "text": [
      "D:\\Program Files\\Anaconda\\lib\\site-packages\\sklearn\\utils\\deprecation.py:125: FutureWarning: You are accessing a training score ('split0_train_score'), which will not be available by default any more in 0.21. If you need training scores, please set return_train_score=True\n",
      "  warnings.warn(*warn_args, **warn_kwargs)\n",
      "D:\\Program Files\\Anaconda\\lib\\site-packages\\sklearn\\utils\\deprecation.py:125: FutureWarning: You are accessing a training score ('split1_train_score'), which will not be available by default any more in 0.21. If you need training scores, please set return_train_score=True\n",
      "  warnings.warn(*warn_args, **warn_kwargs)\n",
      "D:\\Program Files\\Anaconda\\lib\\site-packages\\sklearn\\utils\\deprecation.py:125: FutureWarning: You are accessing a training score ('split2_train_score'), which will not be available by default any more in 0.21. If you need training scores, please set return_train_score=True\n",
      "  warnings.warn(*warn_args, **warn_kwargs)\n",
      "D:\\Program Files\\Anaconda\\lib\\site-packages\\sklearn\\utils\\deprecation.py:125: FutureWarning: You are accessing a training score ('split3_train_score'), which will not be available by default any more in 0.21. If you need training scores, please set return_train_score=True\n",
      "  warnings.warn(*warn_args, **warn_kwargs)\n",
      "D:\\Program Files\\Anaconda\\lib\\site-packages\\sklearn\\utils\\deprecation.py:125: FutureWarning: You are accessing a training score ('split4_train_score'), which will not be available by default any more in 0.21. If you need training scores, please set return_train_score=True\n",
      "  warnings.warn(*warn_args, **warn_kwargs)\n",
      "D:\\Program Files\\Anaconda\\lib\\site-packages\\sklearn\\utils\\deprecation.py:125: FutureWarning: You are accessing a training score ('split5_train_score'), which will not be available by default any more in 0.21. If you need training scores, please set return_train_score=True\n",
      "  warnings.warn(*warn_args, **warn_kwargs)\n",
      "D:\\Program Files\\Anaconda\\lib\\site-packages\\sklearn\\utils\\deprecation.py:125: FutureWarning: You are accessing a training score ('split6_train_score'), which will not be available by default any more in 0.21. If you need training scores, please set return_train_score=True\n",
      "  warnings.warn(*warn_args, **warn_kwargs)\n",
      "D:\\Program Files\\Anaconda\\lib\\site-packages\\sklearn\\utils\\deprecation.py:125: FutureWarning: You are accessing a training score ('split7_train_score'), which will not be available by default any more in 0.21. If you need training scores, please set return_train_score=True\n",
      "  warnings.warn(*warn_args, **warn_kwargs)\n",
      "D:\\Program Files\\Anaconda\\lib\\site-packages\\sklearn\\utils\\deprecation.py:125: FutureWarning: You are accessing a training score ('split8_train_score'), which will not be available by default any more in 0.21. If you need training scores, please set return_train_score=True\n",
      "  warnings.warn(*warn_args, **warn_kwargs)\n",
      "D:\\Program Files\\Anaconda\\lib\\site-packages\\sklearn\\utils\\deprecation.py:125: FutureWarning: You are accessing a training score ('split9_train_score'), which will not be available by default any more in 0.21. If you need training scores, please set return_train_score=True\n",
      "  warnings.warn(*warn_args, **warn_kwargs)\n",
      "D:\\Program Files\\Anaconda\\lib\\site-packages\\sklearn\\utils\\deprecation.py:125: FutureWarning: You are accessing a training score ('mean_train_score'), which will not be available by default any more in 0.21. If you need training scores, please set return_train_score=True\n",
      "  warnings.warn(*warn_args, **warn_kwargs)\n",
      "D:\\Program Files\\Anaconda\\lib\\site-packages\\sklearn\\utils\\deprecation.py:125: FutureWarning: You are accessing a training score ('std_train_score'), which will not be available by default any more in 0.21. If you need training scores, please set return_train_score=True\n",
      "  warnings.warn(*warn_args, **warn_kwargs)\n"
     ]
    },
    {
     "data": {
      "text/plain": [
       "{'mean_fit_time': array([0.14285009, 0.18133142, 0.21971056, 0.2680331 , 0.3158145 ,\n",
       "        0.34681761, 0.3968004 , 0.43345473, 0.47621121, 0.51619949,\n",
       "        0.56198411, 0.60351629, 0.66601081, 0.6919138 , 0.73652184,\n",
       "        0.82694774, 0.81403005, 0.89315808, 0.90499914, 0.95585613,\n",
       "        0.98532753]),\n",
       " 'std_fit_time': array([0.01091985, 0.00818425, 0.00571586, 0.01329014, 0.00827115,\n",
       "        0.01126893, 0.01206413, 0.01610644, 0.01155599, 0.00840396,\n",
       "        0.0182237 , 0.0184468 , 0.02061449, 0.02287252, 0.01455359,\n",
       "        0.04162623, 0.01211413, 0.05092623, 0.00818876, 0.01391947,\n",
       "        0.01945473]),\n",
       " 'mean_score_time': array([0.01136141, 0.01078453, 0.01002278, 0.01012361, 0.0095998 ,\n",
       "        0.0096235 , 0.00870306, 0.01042225, 0.01062691, 0.00962677,\n",
       "        0.00870337, 0.00912654, 0.00996909, 0.01114559, 0.00860295,\n",
       "        0.01010416, 0.01006563, 0.00870299, 0.00946515, 0.00926516,\n",
       "        0.00962687]),\n",
       " 'std_score_time': array([0.00151753, 0.00437547, 0.00407531, 0.00406165, 0.00079939,\n",
       "        0.00408278, 0.0029692 , 0.00442871, 0.00253501, 0.00408389,\n",
       "        0.00296929, 0.00509492, 0.00255216, 0.00544616, 0.00294033,\n",
       "        0.0008311 , 0.00196327, 0.00293533, 0.00386985, 0.00362216,\n",
       "        0.00408404]),\n",
       " 'param_max_features': masked_array(data=[1, 4, 7, 10, 13, 16, 19, 22, 25, 28, 31, 34, 37, 40,\n",
       "                    43, 46, 49, 52, 55, 58, 61],\n",
       "              mask=[False, False, False, False, False, False, False, False,\n",
       "                    False, False, False, False, False, False, False, False,\n",
       "                    False, False, False, False, False],\n",
       "        fill_value='?',\n",
       "             dtype=object),\n",
       " 'param_n_estimators': masked_array(data=[100, 100, 100, 100, 100, 100, 100, 100, 100, 100, 100,\n",
       "                    100, 100, 100, 100, 100, 100, 100, 100, 100, 100],\n",
       "              mask=[False, False, False, False, False, False, False, False,\n",
       "                    False, False, False, False, False, False, False, False,\n",
       "                    False, False, False, False, False],\n",
       "        fill_value='?',\n",
       "             dtype=object),\n",
       " 'params': [{'max_features': 1, 'n_estimators': 100},\n",
       "  {'max_features': 4, 'n_estimators': 100},\n",
       "  {'max_features': 7, 'n_estimators': 100},\n",
       "  {'max_features': 10, 'n_estimators': 100},\n",
       "  {'max_features': 13, 'n_estimators': 100},\n",
       "  {'max_features': 16, 'n_estimators': 100},\n",
       "  {'max_features': 19, 'n_estimators': 100},\n",
       "  {'max_features': 22, 'n_estimators': 100},\n",
       "  {'max_features': 25, 'n_estimators': 100},\n",
       "  {'max_features': 28, 'n_estimators': 100},\n",
       "  {'max_features': 31, 'n_estimators': 100},\n",
       "  {'max_features': 34, 'n_estimators': 100},\n",
       "  {'max_features': 37, 'n_estimators': 100},\n",
       "  {'max_features': 40, 'n_estimators': 100},\n",
       "  {'max_features': 43, 'n_estimators': 100},\n",
       "  {'max_features': 46, 'n_estimators': 100},\n",
       "  {'max_features': 49, 'n_estimators': 100},\n",
       "  {'max_features': 52, 'n_estimators': 100},\n",
       "  {'max_features': 55, 'n_estimators': 100},\n",
       "  {'max_features': 58, 'n_estimators': 100},\n",
       "  {'max_features': 61, 'n_estimators': 100}],\n",
       " 'split0_test_score': array([0.8972973 , 0.9027027 , 0.91891892, 0.90810811, 0.8972973 ,\n",
       "        0.9027027 , 0.90810811, 0.91351351, 0.91891892, 0.91351351,\n",
       "        0.90810811, 0.8972973 , 0.89189189, 0.90810811, 0.88108108,\n",
       "        0.88108108, 0.89189189, 0.88648649, 0.89189189, 0.87567568,\n",
       "        0.86486486]),\n",
       " 'split1_test_score': array([0.9726776 , 0.9726776 , 0.9726776 , 0.9726776 , 0.9726776 ,\n",
       "        0.9726776 , 0.96721311, 0.95628415, 0.95628415, 0.96721311,\n",
       "        0.96721311, 0.96174863, 0.96174863, 0.96721311, 0.96721311,\n",
       "        0.95628415, 0.96174863, 0.96721311, 0.96174863, 0.96174863,\n",
       "        0.95628415]),\n",
       " 'split2_test_score': array([0.96132597, 0.9558011 , 0.95027624, 0.93922652, 0.93922652,\n",
       "        0.9558011 , 0.9281768 , 0.91160221, 0.91712707, 0.91160221,\n",
       "        0.92265193, 0.92265193, 0.91712707, 0.9281768 , 0.91712707,\n",
       "        0.91712707, 0.91712707, 0.91160221, 0.90607735, 0.92265193,\n",
       "        0.92265193]),\n",
       " 'split3_test_score': array([0.92222222, 0.95      , 0.96666667, 0.93888889, 0.95555556,\n",
       "        0.95      , 0.95555556, 0.95555556, 0.96111111, 0.96111111,\n",
       "        0.96111111, 0.95555556, 0.95555556, 0.96111111, 0.95555556,\n",
       "        0.95      , 0.96666667, 0.94444444, 0.93888889, 0.94444444,\n",
       "        0.93888889]),\n",
       " 'split4_test_score': array([0.95530726, 0.94972067, 0.95530726, 0.94972067, 0.95530726,\n",
       "        0.94413408, 0.94413408, 0.94972067, 0.95530726, 0.94972067,\n",
       "        0.94972067, 0.94413408, 0.94413408, 0.94413408, 0.93854749,\n",
       "        0.93854749, 0.9273743 , 0.93854749, 0.9273743 , 0.93296089,\n",
       "        0.92178771]),\n",
       " 'split5_test_score': array([0.96648045, 0.96089385, 0.96648045, 0.98324022, 0.97206704,\n",
       "        0.97206704, 0.97765363, 0.98882682, 0.98324022, 0.98324022,\n",
       "        0.98324022, 0.98324022, 0.98324022, 0.98882682, 0.98324022,\n",
       "        0.98882682, 0.98324022, 0.98324022, 0.98882682, 0.98324022,\n",
       "        0.98882682]),\n",
       " 'split6_test_score': array([0.97765363, 0.97765363, 0.98324022, 0.97765363, 0.99441341,\n",
       "        0.99441341, 0.97206704, 0.97765363, 0.98324022, 0.98324022,\n",
       "        0.97765363, 0.96648045, 0.97206704, 0.97206704, 0.96648045,\n",
       "        0.97206704, 0.96089385, 0.97206704, 0.96648045, 0.97206704,\n",
       "        0.96089385]),\n",
       " 'split7_test_score': array([0.98314607, 0.98314607, 0.96629213, 0.96067416, 0.96067416,\n",
       "        0.9494382 , 0.9494382 , 0.96067416, 0.9494382 , 0.95505618,\n",
       "        0.94382022, 0.95505618, 0.9494382 , 0.9494382 , 0.93258427,\n",
       "        0.93258427, 0.92134831, 0.93258427, 0.92134831, 0.91573034,\n",
       "        0.91573034]),\n",
       " 'split8_test_score': array([0.91525424, 0.92655367, 0.94915254, 0.93785311, 0.91525424,\n",
       "        0.92655367, 0.90960452, 0.9039548 , 0.90960452, 0.89265537,\n",
       "        0.90960452, 0.89830508, 0.89265537, 0.89265537, 0.88135593,\n",
       "        0.88135593, 0.87570621, 0.88135593, 0.88135593, 0.87570621,\n",
       "        0.8700565 ]),\n",
       " 'split9_test_score': array([0.94318182, 0.93181818, 0.92613636, 0.94318182, 0.94886364,\n",
       "        0.93181818, 0.94318182, 0.94318182, 0.94318182, 0.9375    ,\n",
       "        0.9375    , 0.9375    , 0.94318182, 0.94886364, 0.9375    ,\n",
       "        0.94886364, 0.9375    , 0.9375    , 0.93181818, 0.93181818,\n",
       "        0.92613636]),\n",
       " 'mean_test_score': array([0.94936004, 0.95102949, 0.95548136, 0.95102949, 0.95102949,\n",
       "        0.94991653, 0.94546466, 0.94602115, 0.9476906 , 0.94546466,\n",
       "        0.94602115, 0.94212577, 0.9410128 , 0.94602115, 0.93600445,\n",
       "        0.93656093, 0.934335  , 0.93544797, 0.93155259, 0.93155259,\n",
       "        0.92654424]),\n",
       " 'std_test_score': array([0.02768482, 0.02384025, 0.01927874, 0.02174058, 0.02702161,\n",
       "        0.0249205 , 0.02312475, 0.02697882, 0.02464936, 0.02948548,\n",
       "        0.0254709 , 0.02716665, 0.02972062, 0.02795537, 0.03308887,\n",
       "        0.03357492, 0.03265125, 0.03265582, 0.03215698, 0.03465161,\n",
       "        0.03647728]),\n",
       " 'rank_test_score': array([ 6,  2,  1,  2,  2,  5, 11,  8,  7, 11,  8, 13, 14,  8, 16, 15, 18,\n",
       "        17, 19, 19, 21]),\n",
       " 'split0_train_score': array([1., 1., 1., 1., 1., 1., 1., 1., 1., 1., 1., 1., 1., 1., 1., 1., 1.,\n",
       "        1., 1., 1., 1.]),\n",
       " 'split1_train_score': array([1., 1., 1., 1., 1., 1., 1., 1., 1., 1., 1., 1., 1., 1., 1., 1., 1.,\n",
       "        1., 1., 1., 1.]),\n",
       " 'split2_train_score': array([1., 1., 1., 1., 1., 1., 1., 1., 1., 1., 1., 1., 1., 1., 1., 1., 1.,\n",
       "        1., 1., 1., 1.]),\n",
       " 'split3_train_score': array([1., 1., 1., 1., 1., 1., 1., 1., 1., 1., 1., 1., 1., 1., 1., 1., 1.,\n",
       "        1., 1., 1., 1.]),\n",
       " 'split4_train_score': array([1., 1., 1., 1., 1., 1., 1., 1., 1., 1., 1., 1., 1., 1., 1., 1., 1.,\n",
       "        1., 1., 1., 1.]),\n",
       " 'split5_train_score': array([1., 1., 1., 1., 1., 1., 1., 1., 1., 1., 1., 1., 1., 1., 1., 1., 1.,\n",
       "        1., 1., 1., 1.]),\n",
       " 'split6_train_score': array([1., 1., 1., 1., 1., 1., 1., 1., 1., 1., 1., 1., 1., 1., 1., 1., 1.,\n",
       "        1., 1., 1., 1.]),\n",
       " 'split7_train_score': array([1., 1., 1., 1., 1., 1., 1., 1., 1., 1., 1., 1., 1., 1., 1., 1., 1.,\n",
       "        1., 1., 1., 1.]),\n",
       " 'split8_train_score': array([1., 1., 1., 1., 1., 1., 1., 1., 1., 1., 1., 1., 1., 1., 1., 1., 1.,\n",
       "        1., 1., 1., 1.]),\n",
       " 'split9_train_score': array([1., 1., 1., 1., 1., 1., 1., 1., 1., 1., 1., 1., 1., 1., 1., 1., 1.,\n",
       "        1., 1., 1., 1.]),\n",
       " 'mean_train_score': array([1., 1., 1., 1., 1., 1., 1., 1., 1., 1., 1., 1., 1., 1., 1., 1., 1.,\n",
       "        1., 1., 1., 1.]),\n",
       " 'std_train_score': array([0., 0., 0., 0., 0., 0., 0., 0., 0., 0., 0., 0., 0., 0., 0., 0., 0.,\n",
       "        0., 0., 0., 0.])}"
      ]
     },
     "execution_count": 40,
     "metadata": {},
     "output_type": "execute_result"
    }
   ],
   "source": [
    "search.cv_results_"
   ]
  },
  {
   "cell_type": "code",
   "execution_count": 44,
   "metadata": {},
   "outputs": [
    {
     "data": {
      "text/plain": [
       "array([0.94936004, 0.95102949, 0.95548136, 0.95102949, 0.95102949,\n",
       "       0.94991653, 0.94546466, 0.94602115, 0.9476906 , 0.94546466,\n",
       "       0.94602115, 0.94212577, 0.9410128 , 0.94602115, 0.93600445,\n",
       "       0.93656093, 0.934335  , 0.93544797, 0.93155259, 0.93155259,\n",
       "       0.92654424])"
      ]
     },
     "execution_count": 44,
     "metadata": {},
     "output_type": "execute_result"
    }
   ],
   "source": [
    "search.cv_results_['mean_test_score']"
   ]
  },
  {
   "cell_type": "code",
   "execution_count": 45,
   "metadata": {},
   "outputs": [
    {
     "data": {
      "image/png": "[encoded data removed]",
      "text/plain": [
       "<Figure size 432x288 with 1 Axes>"
      ]
     },
     "metadata": {
      "needs_background": "light"
     },
     "output_type": "display_data"
    }
   ],
   "source": [
    "from matplotlib import pyplot as plt\n",
    "plt.plot(a,search.cv_results_['mean_test_score'])\n",
    "plt.show()"
   ]
  },
  {
   "cell_type": "code",
   "execution_count": null,
   "metadata": {},
   "outputs": [],
   "source": []
  }
 ],
 "metadata": {
  "kernelspec": {
   "display_name": "Python 3",
   "language": "python",
   "name": "python3"
  },
  "language_info": {
   "codemirror_mode": {
    "name": "ipython",
    "version": 3
   },
   "file_extension": ".py",
   "mimetype": "text/x-python",
   "name": "python",
   "nbconvert_exporter": "python",
   "pygments_lexer": "ipython3",
   "version": "3.7.1"
  }
 },
 "nbformat": 4,
 "nbformat_minor": 2
}
