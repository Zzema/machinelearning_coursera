{
 "cells": [
  {
   "cell_type": "code",
   "execution_count": 1,
   "metadata": {},
   "outputs": [],
   "source": [
    "from matplotlib.colors import ListedColormap\n",
    "from sklearn import model_selection, datasets, linear_model, metrics\n",
    "\n",
    "import numpy as np"
   ]
  },
  {
   "cell_type": "code",
   "execution_count": 2,
   "metadata": {},
   "outputs": [
    {
     "name": "stdout",
     "output_type": "stream",
     "text": [
      "Populating the interactive namespace from numpy and matplotlib\n"
     ]
    }
   ],
   "source": [
    "%pylab inline"
   ]
  },
  {
   "cell_type": "code",
   "execution_count": 3,
   "metadata": {},
   "outputs": [],
   "source": [
    "blobs = datasets.make_blobs(centers = 2, cluster_std = 5.5, random_state=1)"
   ]
  },
  {
   "cell_type": "code",
   "execution_count": 4,
   "metadata": {},
   "outputs": [
    {
     "data": {
      "text/plain": [
       "array([ 3.10018206e+00, -5.34382894e+00, -9.60218584e+00, -3.94038861e-01,\n",
       "        3.90807888e+00, -5.58747683e+00, -6.25732838e+00, -5.63727474e+00,\n",
       "       -7.71296538e+00,  1.02728990e+00, -1.02105378e+01, -9.89542915e-01,\n",
       "       -1.06051711e+01, -5.76893052e+00,  2.05113601e+00, -4.57286897e+00,\n",
       "       -8.71899243e+00, -5.43900976e+00, -3.55075512e+00, -1.60197277e+01,\n",
       "       -6.90252647e+00, -1.14619143e+01, -8.62931712e+00,  9.51551224e-02,\n",
       "       -3.72362713e+00, -1.17033548e+01, -7.57020806e+00, -8.62314619e-03,\n",
       "        6.38203375e+00, -7.13454265e+00, -3.13294434e+00, -7.94341000e+00,\n",
       "       -1.28417320e+01, -2.71465544e+00, -1.04563336e+00, -1.10238462e+01,\n",
       "        4.93448843e+00, -1.75498578e+01, -1.09927742e+01, -1.07481586e+01,\n",
       "       -8.45405458e+00, -8.06970962e+00, -3.43285453e+00, -1.67630322e+01,\n",
       "       -5.68911445e-01, -7.08565322e+00,  3.29918906e+00,  1.03611048e+01,\n",
       "       -7.80476682e+00, -2.33545615e+00, -2.88236469e+00, -6.37293863e+00,\n",
       "       -9.56969630e+00, -1.22025426e+01, -9.98685667e-01, -7.27405022e+00,\n",
       "       -5.06956455e+00, -2.99205489e+00, -1.42738430e+00,  1.16155411e+00,\n",
       "       -6.33472256e-01, -1.35557543e+01, -7.23019603e+00, -1.01331058e+01,\n",
       "       -2.02166128e+01, -2.67469838e+00, -5.80874858e+00, -1.69967857e+01,\n",
       "       -2.60791505e+00,  6.69659041e-01, -7.77850847e+00, -5.92465202e+00,\n",
       "       -6.68495646e+00,  2.95484887e+00,  7.46935207e+00,  7.64323039e-02,\n",
       "       -5.21883864e+00, -9.75753304e+00, -4.56450454e+00, -4.11876701e+00,\n",
       "        4.56440173e+00, -1.65936867e+01, -7.79356024e-01,  4.77910392e-01,\n",
       "       -5.46369404e+00,  4.57617203e+00, -6.09524740e-01,  3.29514782e+00,\n",
       "       -3.34368198e+00, -5.35141363e+00, -3.61585037e+00, -1.38011725e+00,\n",
       "       -2.80847819e+00, -5.34820248e+00, -3.82991511e+00, -4.28417719e+00,\n",
       "       -9.90196076e+00, -8.88296171e-02, -5.53747830e+00,  7.93690480e+00])"
      ]
     },
     "execution_count": 4,
     "metadata": {},
     "output_type": "execute_result"
    }
   ],
   "source": [
    "blobs[0][:,0]"
   ]
  },
  {
   "cell_type": "code",
   "execution_count": 37,
   "metadata": {},
   "outputs": [
    {
     "data": {
      "text/plain": [
       "[<matplotlib.lines.Line2D at 0xaf700526d8>]"
      ]
     },
     "execution_count": 37,
     "metadata": {},
     "output_type": "execute_result"
    },
    {
     "data": {
      "image/png": "[encoded data removed]",
      "text/plain": [
       "<Figure size 432x288 with 1 Axes>"
      ]
     },
     "metadata": {
      "needs_background": "light"
     },
     "output_type": "display_data"
    }
   ],
   "source": [
    "colors = ListedColormap(['red', 'blue'])\n",
    "plt.scatter(blobs[0][:,0],blobs[0][:,1],c=blobs[1], cmap=colors)\n",
    "plt.plot(x1,y1)\n",
    "plt.plot(x1,y2, color='orange')"
   ]
  },
  {
   "cell_type": "code",
   "execution_count": 7,
   "metadata": {},
   "outputs": [],
   "source": [
    "X_train, X_test, y_train, y_test=model_selection.train_test_split(blobs[0],blobs[1],test_size = 0.3,random_state=1)"
   ]
  },
  {
   "cell_type": "code",
   "execution_count": 8,
   "metadata": {},
   "outputs": [
    {
     "data": {
      "text/plain": [
       "array([[ 4.56440173e+00,  1.27654824e+01],\n",
       "       [-5.46369404e+00,  2.22434547e+00],\n",
       "       [-2.71465544e+00, -4.75469434e-01],\n",
       "       [-1.65936867e+01,  7.95050699e-01],\n",
       "       [-5.34820248e+00,  6.48309069e+00],\n",
       "       [-5.43900976e+00, -2.42141159e-01],\n",
       "       [ 4.93448843e+00,  5.42485017e+00],\n",
       "       [-7.79356024e-01,  9.22541893e+00],\n",
       "       [ 6.69659041e-01,  4.83186024e+00],\n",
       "       [-2.67469838e+00, -5.53354180e+00],\n",
       "       [-2.80847819e+00,  7.63291742e+00],\n",
       "       [-1.07481586e+01, -4.60814658e+00],\n",
       "       [-5.06956455e+00,  8.24566606e+00],\n",
       "       [-9.56969630e+00, -5.52257106e-01],\n",
       "       [-6.37293863e+00, -1.29042594e+01],\n",
       "       [-1.28417320e+01, -9.43699610e+00],\n",
       "       [-7.94341000e+00,  2.48510490e+00],\n",
       "       [-5.68911445e-01,  5.06103742e+00],\n",
       "       [-4.56450454e+00, -1.49483755e+00],\n",
       "       [-1.02105378e+01, -1.28400965e+01],\n",
       "       [-9.60218584e+00,  1.63192762e+00],\n",
       "       [ 2.95484887e+00,  9.52755132e+00],\n",
       "       [-8.88296171e-02,  9.27476627e+00],\n",
       "       [-7.23019603e+00,  3.15939381e+00],\n",
       "       [-1.60197277e+01, -3.02174517e+00],\n",
       "       [-1.10238462e+01, -4.51295085e+00],\n",
       "       [-3.82991511e+00, -1.70439559e+00],\n",
       "       [-8.62314619e-03,  2.46911571e+00],\n",
       "       [ 3.29918906e+00,  7.17020873e+00],\n",
       "       [-1.09927742e+01, -7.27491200e+00]])"
      ]
     },
     "execution_count": 8,
     "metadata": {},
     "output_type": "execute_result"
    }
   ],
   "source": [
    "X_test"
   ]
  },
  {
   "cell_type": "code",
   "execution_count": 9,
   "metadata": {},
   "outputs": [],
   "source": [
    "ridge=linear_model.RidgeClassifier(random_state = 1)"
   ]
  },
  {
   "cell_type": "code",
   "execution_count": 10,
   "metadata": {},
   "outputs": [
    {
     "data": {
      "text/plain": [
       "0.13333333333333333"
      ]
     },
     "execution_count": 10,
     "metadata": {},
     "output_type": "execute_result"
    }
   ],
   "source": [
    "ridge.fit(X_train,y_train)\n",
    "y_pred=ridge.predict(X_test)\n",
    "metrics.mean_squared_error(y_pred,y_test)"
   ]
  },
  {
   "cell_type": "code",
   "execution_count": 11,
   "metadata": {},
   "outputs": [
    {
     "data": {
      "text/plain": [
       "array([0, 0, 0, 1, 0, 0, 0, 0, 0, 1, 0, 1, 0, 1, 1, 1, 0, 0, 0, 1, 0, 0,\n",
       "       0, 1, 1, 1, 1, 0, 0, 1])"
      ]
     },
     "execution_count": 11,
     "metadata": {},
     "output_type": "execute_result"
    }
   ],
   "source": [
    "y_test"
   ]
  },
  {
   "cell_type": "code",
   "execution_count": 12,
   "metadata": {},
   "outputs": [
    {
     "data": {
      "text/plain": [
       "array([0, 0, 0, 1, 0, 1, 0, 0, 0, 1, 0, 1, 0, 1, 1, 1, 1, 0, 1, 1, 1, 0,\n",
       "       0, 1, 1, 1, 1, 0, 0, 1])"
      ]
     },
     "execution_count": 12,
     "metadata": {},
     "output_type": "execute_result"
    }
   ],
   "source": [
    "y_pred"
   ]
  },
  {
   "cell_type": "code",
   "execution_count": 17,
   "metadata": {},
   "outputs": [
    {
     "name": "stderr",
     "output_type": "stream",
     "text": [
      "D:\\Program Files\\Anaconda\\lib\\site-packages\\sklearn\\linear_model\\logistic.py:433: FutureWarning: Default solver will be changed to 'lbfgs' in 0.22. Specify a solver to silence this warning.\n",
      "  FutureWarning)\n"
     ]
    },
    {
     "data": {
      "text/plain": [
       "0.13333333333333333"
      ]
     },
     "execution_count": 17,
     "metadata": {},
     "output_type": "execute_result"
    }
   ],
   "source": [
    "#from sklearn.linear_model import LogisticRegression\n",
    "lr=linear_model.LogisticRegression(random_state=1)\n",
    "lr.fit(X_train,y_train)\n",
    "y_pred2=lr.predict(X_test)\n",
    "metrics.mean_squared_error(y_pred,y_test)"
   ]
  },
  {
   "cell_type": "code",
   "execution_count": 36,
   "metadata": {},
   "outputs": [],
   "source": [
    "#ridge.coef_\n",
    "x1=np.arange(start=-20,stop=10,step=1)\n",
    "ridge.coef_[0][1]\n",
    "y1=ridge.coef_[0][0]+ridge.coef_[0][1]*x1\n",
    "y2=lr.coef_[0][0]+lr.coef_[0][1]*x1"
   ]
  },
  {
   "cell_type": "code",
   "execution_count": 38,
   "metadata": {},
   "outputs": [],
   "source": [
    "?model_selection.ShuffleSplit"
   ]
  }
 ],
 "metadata": {
  "kernelspec": {
   "display_name": "Python 3",
   "language": "python",
   "name": "python3"
  },
  "language_info": {
   "codemirror_mode": {
    "name": "ipython",
    "version": 3
   },
   "file_extension": ".py",
   "mimetype": "text/x-python",
   "name": "python",
   "nbconvert_exporter": "python",
   "pygments_lexer": "ipython3",
   "version": "3.7.1"
  }
 },
 "nbformat": 4,
 "nbformat_minor": 2
}
