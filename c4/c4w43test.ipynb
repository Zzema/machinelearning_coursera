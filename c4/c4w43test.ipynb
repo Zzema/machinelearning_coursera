{
 "cells": [
  {
   "cell_type": "code",
   "execution_count": 1,
   "metadata": {},
   "outputs": [],
   "source": [
    "import pandas as pd\n",
    "import numpy as np\n",
    "import scipy as sc\n",
    "import statsmodels.stats as stats"
   ]
  },
  {
   "cell_type": "code",
   "execution_count": 2,
   "metadata": {},
   "outputs": [
    {
     "data": {
      "text/html": [
       "<div>\n",
       "<style scoped>\n",
       "    .dataframe tbody tr th:only-of-type {\n",
       "        vertical-align: middle;\n",
       "    }\n",
       "\n",
       "    .dataframe tbody tr th {\n",
       "        vertical-align: top;\n",
       "    }\n",
       "\n",
       "    .dataframe thead th {\n",
       "        text-align: right;\n",
       "    }\n",
       "</style>\n",
       "<table border=\"1\" class=\"dataframe\">\n",
       "  <thead>\n",
       "    <tr style=\"text-align: right;\">\n",
       "      <th></th>\n",
       "      <th>userID</th>\n",
       "      <th>browser</th>\n",
       "      <th>slot</th>\n",
       "      <th>n_clicks</th>\n",
       "      <th>n_queries</th>\n",
       "      <th>n_nonclk_queries</th>\n",
       "    </tr>\n",
       "  </thead>\n",
       "  <tbody>\n",
       "    <tr>\n",
       "      <th>0</th>\n",
       "      <td>1</td>\n",
       "      <td>Browser #2</td>\n",
       "      <td>exp</td>\n",
       "      <td>23</td>\n",
       "      <td>32</td>\n",
       "      <td>19</td>\n",
       "    </tr>\n",
       "    <tr>\n",
       "      <th>1</th>\n",
       "      <td>3</td>\n",
       "      <td>Browser #4</td>\n",
       "      <td>exp</td>\n",
       "      <td>3</td>\n",
       "      <td>4</td>\n",
       "      <td>2</td>\n",
       "    </tr>\n",
       "    <tr>\n",
       "      <th>2</th>\n",
       "      <td>5</td>\n",
       "      <td>Browser #4</td>\n",
       "      <td>exp</td>\n",
       "      <td>29</td>\n",
       "      <td>35</td>\n",
       "      <td>16</td>\n",
       "    </tr>\n",
       "    <tr>\n",
       "      <th>3</th>\n",
       "      <td>6</td>\n",
       "      <td>Browser #4</td>\n",
       "      <td>control</td>\n",
       "      <td>12</td>\n",
       "      <td>6</td>\n",
       "      <td>0</td>\n",
       "    </tr>\n",
       "    <tr>\n",
       "      <th>4</th>\n",
       "      <td>7</td>\n",
       "      <td>Browser #4</td>\n",
       "      <td>exp</td>\n",
       "      <td>54</td>\n",
       "      <td>68</td>\n",
       "      <td>30</td>\n",
       "    </tr>\n",
       "  </tbody>\n",
       "</table>\n",
       "</div>"
      ],
      "text/plain": [
       "   userID     browser     slot  n_clicks  n_queries  n_nonclk_queries\n",
       "0       1  Browser #2      exp        23         32                19\n",
       "1       3  Browser #4      exp         3          4                 2\n",
       "2       5  Browser #4      exp        29         35                16\n",
       "3       6  Browser #4  control        12          6                 0\n",
       "4       7  Browser #4      exp        54         68                30"
      ]
     },
     "execution_count": 2,
     "metadata": {},
     "output_type": "execute_result"
    }
   ],
   "source": [
    "data=pd.read_csv('c4w43_ab_browser_test.csv')\n",
    "data.head()"
   ]
  },
  {
   "cell_type": "code",
   "execution_count": 10,
   "metadata": {},
   "outputs": [
    {
     "data": {
      "text/html": [
       "<div>\n",
       "<style scoped>\n",
       "    .dataframe tbody tr th:only-of-type {\n",
       "        vertical-align: middle;\n",
       "    }\n",
       "\n",
       "    .dataframe tbody tr th {\n",
       "        vertical-align: top;\n",
       "    }\n",
       "\n",
       "    .dataframe thead th {\n",
       "        text-align: right;\n",
       "    }\n",
       "</style>\n",
       "<table border=\"1\" class=\"dataframe\">\n",
       "  <thead>\n",
       "    <tr style=\"text-align: right;\">\n",
       "      <th></th>\n",
       "      <th>userID</th>\n",
       "      <th>n_clicks</th>\n",
       "      <th>n_queries</th>\n",
       "      <th>n_nonclk_queries</th>\n",
       "    </tr>\n",
       "  </thead>\n",
       "  <tbody>\n",
       "    <tr>\n",
       "      <th>count</th>\n",
       "      <td>566134.000000</td>\n",
       "      <td>566134.000000</td>\n",
       "      <td>566134.000000</td>\n",
       "      <td>566134.000000</td>\n",
       "    </tr>\n",
       "    <tr>\n",
       "      <th>mean</th>\n",
       "      <td>301377.214027</td>\n",
       "      <td>11.431658</td>\n",
       "      <td>10.720524</td>\n",
       "      <td>4.703987</td>\n",
       "    </tr>\n",
       "    <tr>\n",
       "      <th>std</th>\n",
       "      <td>175526.333101</td>\n",
       "      <td>20.251494</td>\n",
       "      <td>16.262827</td>\n",
       "      <td>8.109958</td>\n",
       "    </tr>\n",
       "    <tr>\n",
       "      <th>min</th>\n",
       "      <td>1.000000</td>\n",
       "      <td>0.000000</td>\n",
       "      <td>1.000000</td>\n",
       "      <td>0.000000</td>\n",
       "    </tr>\n",
       "    <tr>\n",
       "      <th>25%</th>\n",
       "      <td>148627.250000</td>\n",
       "      <td>1.000000</td>\n",
       "      <td>2.000000</td>\n",
       "      <td>1.000000</td>\n",
       "    </tr>\n",
       "    <tr>\n",
       "      <th>50%</th>\n",
       "      <td>299362.500000</td>\n",
       "      <td>4.000000</td>\n",
       "      <td>5.000000</td>\n",
       "      <td>2.000000</td>\n",
       "    </tr>\n",
       "    <tr>\n",
       "      <th>75%</th>\n",
       "      <td>455698.750000</td>\n",
       "      <td>13.000000</td>\n",
       "      <td>13.000000</td>\n",
       "      <td>6.000000</td>\n",
       "    </tr>\n",
       "    <tr>\n",
       "      <th>max</th>\n",
       "      <td>603137.000000</td>\n",
       "      <td>863.000000</td>\n",
       "      <td>665.000000</td>\n",
       "      <td>581.000000</td>\n",
       "    </tr>\n",
       "  </tbody>\n",
       "</table>\n",
       "</div>"
      ],
      "text/plain": [
       "              userID       n_clicks      n_queries  n_nonclk_queries\n",
       "count  566134.000000  566134.000000  566134.000000     566134.000000\n",
       "mean   301377.214027      11.431658      10.720524          4.703987\n",
       "std    175526.333101      20.251494      16.262827          8.109958\n",
       "min         1.000000       0.000000       1.000000          0.000000\n",
       "25%    148627.250000       1.000000       2.000000          1.000000\n",
       "50%    299362.500000       4.000000       5.000000          2.000000\n",
       "75%    455698.750000      13.000000      13.000000          6.000000\n",
       "max    603137.000000     863.000000     665.000000        581.000000"
      ]
     },
     "execution_count": 10,
     "metadata": {},
     "output_type": "execute_result"
    }
   ],
   "source": [
    "data.describe()"
   ]
  },
  {
   "cell_type": "markdown",
   "metadata": {},
   "source": [
    "### 1 Задача"
   ]
  },
  {
   "cell_type": "code",
   "execution_count": 9,
   "metadata": {},
   "outputs": [
    {
     "data": {
      "text/plain": [
       "0.016135689824415808"
      ]
     },
     "execution_count": 9,
     "metadata": {},
     "output_type": "execute_result"
    }
   ],
   "source": [
    "(sum(data[data.slot=='exp'].n_clicks)-sum(data[data.slot!='exp'].n_clicks))/sum(data[data.slot!='exp'].n_clicks)"
   ]
  },
  {
   "cell_type": "code",
   "execution_count": 14,
   "metadata": {},
   "outputs": [
    {
     "data": {
      "text/plain": [
       "(11.584000994388806, 11.280906260323173)"
      ]
     },
     "execution_count": 14,
     "metadata": {},
     "output_type": "execute_result"
    }
   ],
   "source": [
    "data[data.slot=='exp'].n_clicks.mean() , data[data.slot=='control'].n_clicks.mean()"
   ]
  },
  {
   "cell_type": "code",
   "execution_count": 15,
   "metadata": {},
   "outputs": [
    {
     "data": {
      "text/plain": [
       "(5.0, 4.0)"
      ]
     },
     "execution_count": 15,
     "metadata": {},
     "output_type": "execute_result"
    }
   ],
   "source": [
    "data[data.slot=='exp'].n_clicks.median() , data[data.slot=='control'].n_clicks.median()"
   ]
  },
  {
   "cell_type": "markdown",
   "metadata": {},
   "source": [
    "для средних доверительный интервал:"
   ]
  },
  {
   "cell_type": "code",
   "execution_count": 16,
   "metadata": {},
   "outputs": [],
   "source": [
    "from statsmodels.stats import weightstats"
   ]
  },
  {
   "cell_type": "code",
   "execution_count": 17,
   "metadata": {},
   "outputs": [
    {
     "data": {
      "text/plain": [
       "(11.509318729588346, 11.658683259189266)"
      ]
     },
     "execution_count": 17,
     "metadata": {},
     "output_type": "execute_result"
    }
   ],
   "source": [
    "weightstats.zconfint(data[data.slot=='exp'].n_clicks)"
   ]
  },
  {
   "cell_type": "code",
   "execution_count": 20,
   "metadata": {},
   "outputs": [
    {
     "data": {
      "text/plain": [
       "(11.20638556317892, 11.355426957467426)"
      ]
     },
     "execution_count": 20,
     "metadata": {},
     "output_type": "execute_result"
    }
   ],
   "source": [
    "weightstats.zconfint(data[data.slot=='control'].n_clicks)"
   ]
  },
  {
   "cell_type": "markdown",
   "metadata": {},
   "source": [
    "бутстреп"
   ]
  },
  {
   "cell_type": "code",
   "execution_count": 39,
   "metadata": {},
   "outputs": [],
   "source": [
    "np.random.seed(0)\n",
    "n_boot_samples = 500\n",
    "exp1=np.array(data[data.slot=='exp'].n_clicks)\n",
    "control1=np.array(data[data.slot=='control'].n_clicks)\n",
    "ind_exp=np.random.randint(0,len(exp1),(n_boot_samples,len(exp1)))\n",
    "exp=pd.DataFrame(exp1[ind_exp])\n",
    "ind_control=np.random.randint(0,len(control1),(n_boot_samples,len(control1)))\n",
    "control=pd.DataFrame(control1[ind_control])"
   ]
  },
  {
   "cell_type": "code",
   "execution_count": 40,
   "metadata": {},
   "outputs": [
    {
     "name": "stdout",
     "output_type": "stream",
     "text": [
      "default=0: 95% interval median:  [5. 5.]\n",
      "default=1: 95% interval median:  [4. 4.]\n",
      "difference: 95% interval median:  [1. 1.]\n"
     ]
    }
   ],
   "source": [
    "print('default=0: 95% interval median: ',np.percentile(np.array(exp.median(axis=1)),[2.5,97.5]))\n",
    "print('default=1: 95% interval median: ',np.percentile(np.array(control.median(axis=1)),[2.5,97.5]))\n",
    "print('difference: 95% interval median: ',np.percentile(np.array(exp.median(axis=1)-control.median(axis=1)),[2.5,97.5]))"
   ]
  },
  {
   "cell_type": "code",
   "execution_count": 42,
   "metadata": {},
   "outputs": [
    {
     "name": "stdout",
     "output_type": "stream",
     "text": [
      "default=0: 95% interval mean:  [11.50789349 11.6588664 ]\n",
      "default=1: 95% interval mean:  [11.20668696 11.35347509]\n",
      "difference: 95% interval mean:  [0.19960335 0.40496719]\n"
     ]
    }
   ],
   "source": [
    "print('default=0: 95% interval mean: ',np.percentile(np.array(exp.mean(axis=1)),[2.5,97.5]))\n",
    "print('default=1: 95% interval mean: ',np.percentile(np.array(control.mean(axis=1)),[2.5,97.5]))\n",
    "print('difference: 95% interval mean: ',np.percentile(np.array(exp.mean(axis=1)-control.mean(axis=1)),[2.5,97.5]))"
   ]
  },
  {
   "cell_type": "markdown",
   "metadata": {},
   "source": [
    "4 Задача"
   ]
  },
  {
   "cell_type": "code",
   "execution_count": 38,
   "metadata": {},
   "outputs": [
    {
     "data": {
      "text/plain": [
       "<matplotlib.legend.Legend at 0x1a1d77e710>"
      ]
     },
     "execution_count": 38,
     "metadata": {},
     "output_type": "execute_result"
    },
    {
     "data": {
      "image/png": "[encoded data removed]",
      "text/plain": [
       "<Figure size 432x288 with 1 Axes>"
      ]
     },
     "metadata": {
      "needs_background": "light"
     },
     "output_type": "display_data"
    }
   ],
   "source": [
    "import seaborn as sns\n",
    "import matplotlib.patches as mpatches\n",
    "import matplotlib.pyplot as plt\n",
    "sns.distplot(data[data.slot=='exp'].n_clicks, hist=True, color='red', bins=20 )\n",
    "sns.distplot(data[data.slot=='control'].n_clicks, hist=True, color='blue', bins=20 )\n",
    "\n",
    "red_patch = mpatches.Patch(color='red', label='exp')\n",
    "blue_patch = mpatches.Patch(color='blue', label='control')\n",
    "plt.legend(handles=[red_patch,blue_patch])"
   ]
  },
  {
   "cell_type": "code",
   "execution_count": 51,
   "metadata": {},
   "outputs": [
    {
     "data": {
      "text/plain": [
       "(500,)"
      ]
     },
     "execution_count": 51,
     "metadata": {},
     "output_type": "execute_result"
    }
   ],
   "source": [
    "#control_boot_chi_squared\n",
    "temp1,temp2=sc.stats.chisquare(np.array(control),ddof=1, axis=1)\n",
    "np.shape(temp2)"
   ]
  },
  {
   "cell_type": "code",
   "execution_count": 56,
   "metadata": {},
   "outputs": [
    {
     "data": {
      "text/plain": [
       "((array([409.75447609, 417.6076492 , 422.06789456, 425.24996033,\n",
       "         427.75458277, 429.83540071, 431.6244473 , 433.19958802,\n",
       "         434.61075771, 435.89197548, 437.06750372, 438.15527962,\n",
       "         439.16895419, 440.11916758, 441.0143809 , 441.86143812,\n",
       "         442.66595697, 443.43260794, 444.16531782, 444.86742108,\n",
       "         445.54177438, 446.19084464, 446.81677748, 447.42145127,\n",
       "         448.00652022, 448.57344901, 449.12354099, 449.6579613 ,\n",
       "         450.17775596, 450.68386771, 451.17714938, 451.65837504,\n",
       "         452.12824958, 452.58741674, 453.03646615, 453.47593922,\n",
       "         453.90633437, 454.32811152, 454.74169597, 455.14748186,\n",
       "         455.54583518, 455.93709642, 456.3215829 , 456.69959087,\n",
       "         457.07139736, 457.43726183, 457.79742761, 458.1521233 ,\n",
       "         458.50156388, 458.84595184, 459.1854781 , 459.52032292,\n",
       "         459.85065667, 460.17664058, 460.49842735, 460.81616179,\n",
       "         461.12998133, 461.44001656, 461.74639164, 462.04922476,\n",
       "         462.3486285 , 462.64471019, 462.93757225, 463.22731247,\n",
       "         463.51402431, 463.79779714, 464.07871649, 464.35686427,\n",
       "         464.63231897, 464.90515586, 465.17544715, 465.44326219,\n",
       "         465.70866759, 465.97172738, 466.23250314, 466.49105414,\n",
       "         466.74743742, 467.00170797, 467.25391874, 467.50412083,\n",
       "         467.75236352, 467.99869437, 468.24315933, 468.48580276,\n",
       "         468.72666756, 468.9657952 , 469.20322579, 469.43899817,\n",
       "         469.67314992, 469.90571743, 470.13673598, 470.36623974,\n",
       "         470.59426187, 470.82083452, 471.04598887, 471.26975521,\n",
       "         471.49216293, 471.71324059, 471.93301594, 472.15151593,\n",
       "         472.36876679, 472.58479402, 472.79962241, 473.01327612,\n",
       "         473.22577862, 473.43715282, 473.64742098, 473.85660482,\n",
       "         474.06472549, 474.27180363, 474.47785934, 474.68291223,\n",
       "         474.88698145, 475.09008566, 475.29224309, 475.49347153,\n",
       "         475.69378836, 475.89321056, 476.09175471, 476.28943702,\n",
       "         476.48627333, 476.68227913, 476.87746958, 477.07185948,\n",
       "         477.26546334, 477.45829534, 477.65036938, 477.84169905,\n",
       "         478.03229766, 478.22217826, 478.41135362, 478.59983627,\n",
       "         478.78763846, 478.97477223, 479.16124937, 479.34708144,\n",
       "         479.5322798 , 479.71685555, 479.90081964, 480.08418277,\n",
       "         480.26695546, 480.44914804, 480.63077065, 480.81183327,\n",
       "         480.99234567, 481.17231747, 481.35175812, 481.53067691,\n",
       "         481.70908297, 481.88698529, 482.06439268, 482.24131385,\n",
       "         482.41775732, 482.59373152, 482.76924472, 482.94430506,\n",
       "         483.11892057, 483.29309913, 483.46684854, 483.64017644,\n",
       "         483.81309039, 483.98559783, 484.15770608, 484.32942237,\n",
       "         484.50075382, 484.67170745, 484.8422902 , 485.01250889,\n",
       "         485.18237027, 485.35188099, 485.5210476 , 485.68987659,\n",
       "         485.85837436, 486.02654722, 486.1944014 , 486.36194308,\n",
       "         486.52917832, 486.69611315, 486.86275351, 487.02910527,\n",
       "         487.19517424, 487.36096615, 487.52648669, 487.69174147,\n",
       "         487.85673604, 488.02147589, 488.18596648, 488.35021316,\n",
       "         488.51422128, 488.67799611, 488.84154287, 489.00486673,\n",
       "         489.16797282, 489.33086621, 489.49355193, 489.65603496,\n",
       "         489.81832026, 489.98041271, 490.14231717, 490.30403846,\n",
       "         490.46558136, 490.62695061, 490.78815091, 490.94918693,\n",
       "         491.1100633 , 491.27078462, 491.43135545, 491.59178034,\n",
       "         491.75206378, 491.91221026, 492.07222421, 492.23211006,\n",
       "         492.39187219, 492.55151498, 492.71104276, 492.87045985,\n",
       "         493.02977055, 493.18897913, 493.34808983, 493.50710688,\n",
       "         493.6660345 , 493.82487688, 493.98363818, 494.14232257,\n",
       "         494.30093417, 494.45947713, 494.61795553, 494.77637348,\n",
       "         494.93473505, 495.09304432, 495.25130533, 495.40952214,\n",
       "         495.56769878, 495.72583927, 495.88394762, 496.04202785,\n",
       "         496.20008395, 496.35811992, 496.51613974, 496.67414739,\n",
       "         496.83214685, 496.9901421 , 497.1481371 , 497.30613582,\n",
       "         497.46414222, 497.62216027, 497.78019393, 497.93824716,\n",
       "         498.09632394, 498.25442821, 498.41256396, 498.57073516,\n",
       "         498.72894577, 498.88719979, 499.04550118, 499.20385395,\n",
       "         499.36226209, 499.52072961, 499.67926051, 499.83785882,\n",
       "         499.99652857, 500.15527379, 500.31409855, 500.47300689,\n",
       "         500.6320029 , 500.79109066, 500.95027428, 501.10955787,\n",
       "         501.26894556, 501.4284415 , 501.58804986, 501.74777481,\n",
       "         501.90762055, 502.06759131, 502.22769132, 502.38792485,\n",
       "         502.54829617, 502.7088096 , 502.86946945, 503.03028007,\n",
       "         503.19124585, 503.35237119, 503.51366051, 503.67511828,\n",
       "         503.83674897, 503.99855711, 504.16054723, 504.32272391,\n",
       "         504.48509177, 504.64765544, 504.8104196 , 504.97338897,\n",
       "         505.13656828, 505.29996234, 505.46357595, 505.62741399,\n",
       "         505.79148136, 505.955783  , 506.12032391, 506.28510912,\n",
       "         506.4501437 , 506.61543279, 506.78098155, 506.94679522,\n",
       "         507.11287906, 507.27923839, 507.4458786 , 507.61280512,\n",
       "         507.78002343, 507.94753908, 508.11535769, 508.2834849 ,\n",
       "         508.45192645, 508.62068813, 508.78977579, 508.95919536,\n",
       "         509.12895283, 509.29905425, 509.46950577, 509.64031358,\n",
       "         509.81148398, 509.98302331, 510.15493802, 510.32723463,\n",
       "         510.49991974, 510.67300005, 510.84648233, 511.02037346,\n",
       "         511.19468038, 511.36941017, 511.54456996, 511.72016701,\n",
       "         511.89620869, 512.07270243, 512.24965583, 512.42707654,\n",
       "         512.60497236, 512.7833512 , 512.96222108, 513.14159016,\n",
       "         513.32146669, 513.50185909, 513.68277589, 513.86422576,\n",
       "         514.0462175 , 514.22876007, 514.41186257, 514.59553423,\n",
       "         514.77978447, 514.96462286, 515.1500591 , 515.33610309,\n",
       "         515.52276491, 515.71005479, 515.89798315, 516.0865606 ,\n",
       "         516.27579795, 516.4657062 , 516.65629654, 516.8475804 ,\n",
       "         517.03956939, 517.23227537, 517.42571041, 517.61988681,\n",
       "         517.81481714, 518.01051419, 518.20699101, 518.40426091,\n",
       "         518.6023375 , 518.80123463, 519.00096646, 519.20154744,\n",
       "         519.40299233, 519.6053162 , 519.80853445, 520.01266282,\n",
       "         520.21771737, 520.42371455, 520.63067116, 520.83860438,\n",
       "         521.04753181, 521.25747141, 521.4684416 , 521.68046121,\n",
       "         521.89354953, 522.10772631, 522.32301178, 522.53942666,\n",
       "         522.7569922 , 522.97573016, 523.19566287, 523.41681322,\n",
       "         523.63920469, 523.86286137, 524.08780801, 524.31406997,\n",
       "         524.54167335, 524.77064492, 525.0010122 , 525.23280347,\n",
       "         525.46604781, 525.70077513, 525.93701619, 526.17480264,\n",
       "         526.41416707, 526.65514303, 526.89776509, 527.14206885,\n",
       "         527.38809102, 527.63586946, 527.88544319, 528.13685249,\n",
       "         528.39013894, 528.64534548, 528.90251646, 529.16169769,\n",
       "         529.42293658, 529.68628211, 529.95178499, 530.21949771,\n",
       "         530.48947461, 530.76177201, 531.03644828, 531.31356394,\n",
       "         531.5931818 , 531.87536703, 532.16018736, 532.44771312,\n",
       "         532.73801745, 533.03117645, 533.3272693 , 533.62637848,\n",
       "         533.92858993, 534.23399326, 534.54268197, 534.85475367,\n",
       "         535.17031035, 535.48945862, 535.81231003, 536.13898137,\n",
       "         536.469595  , 536.80427924, 537.14316874, 537.48640494,\n",
       "         537.83413651, 538.18651989, 538.54371983, 538.90591001,\n",
       "         539.27327369, 539.64600445, 540.024307  , 540.40839804,\n",
       "         540.79850724, 541.19487833, 541.59777025, 542.00745848,\n",
       "         542.4242365 , 542.84841741, 543.28033575, 543.72034952,\n",
       "         544.16884245, 544.62622658, 545.09294513, 545.56947578,\n",
       "         546.05633439, 546.55407919, 547.06331567, 547.58470212,\n",
       "         548.11895597, 548.66686128, 549.22927728, 549.80714846,\n",
       "         550.40151635, 551.01353345, 551.6444798 , 552.29578272,\n",
       "         552.96904058, 553.66605164, 554.3888492 , 555.13974497,\n",
       "         555.92138291, 556.73680693, 557.58954684, 558.48372886,\n",
       "         559.42421968, 560.41681721, 561.46850732, 562.58781651,\n",
       "         563.7853068 , 565.0742885 , 566.4718777 , 568.00062101,\n",
       "         569.6910998 , 571.58632494, 573.74964871, 576.28025333,\n",
       "         579.34711248, 583.27672236, 588.8483932 , 598.84337406]),\n",
       "  array([ 9991462.80506604,  9998518.23129429, 10031121.33861506,\n",
       "         10049488.5541458 , 10063120.90922197, 10064071.77415105,\n",
       "         10084039.45357731, 10084609.49843424, 10093530.80783726,\n",
       "         10095113.32738648, 10097949.90835278, 10100439.17000075,\n",
       "         10100537.12070845, 10101543.55610221, 10103626.36463785,\n",
       "         10104546.65325005, 10111203.58797473, 10114329.31502848,\n",
       "         10114721.76985853, 10118648.14627001, 10119466.81161374,\n",
       "         10121418.19498407, 10121725.98952867, 10124600.60026208,\n",
       "         10130839.81335089, 10132081.69797808, 10135539.12961044,\n",
       "         10139182.08262273, 10141958.34212498, 10146646.693481  ,\n",
       "         10149118.34712594, 10152041.56495606, 10156682.68641735,\n",
       "         10158378.72740393, 10165210.65217293, 10167822.33049536,\n",
       "         10170840.99690781, 10174092.65408386, 10174784.02083051,\n",
       "         10179898.23602678, 10182498.71461022, 10182518.12964767,\n",
       "         10183823.39121525, 10185253.87381536, 10189356.90631732,\n",
       "         10190683.88411299, 10193121.52120105, 10193928.62129969,\n",
       "         10194371.32421705, 10196410.4712968 , 10197007.79725897,\n",
       "         10205333.59969181, 10205593.17485473, 10205694.69958274,\n",
       "         10206841.57394182, 10207000.81997002, 10210252.15399804,\n",
       "         10213541.08016482, 10213606.23297849, 10214413.5048381 ,\n",
       "         10215350.59448014, 10219078.06358378, 10219744.94231985,\n",
       "         10219793.38544317, 10222455.66896241, 10223956.01810327,\n",
       "         10224541.87372858, 10224749.47877403, 10224963.22007517,\n",
       "         10226837.78311436, 10227633.74711956, 10227656.80874413,\n",
       "         10228277.82648469, 10230212.67830107, 10232472.83825491,\n",
       "         10233096.66825891, 10233915.36250222, 10235441.38537511,\n",
       "         10236845.27949275, 10239632.63376911, 10243358.78729751,\n",
       "         10243409.66825359, 10243602.16133541, 10245607.41002227,\n",
       "         10246281.51765027, 10246884.55177269, 10247487.24587688,\n",
       "         10248628.70332823, 10249980.08496131, 10250270.25574032,\n",
       "         10250464.50736533, 10252203.82723875, 10252664.2461929 ,\n",
       "         10253319.70838153, 10253715.99826169, 10256468.10473373,\n",
       "         10257285.86530696, 10258960.75104811, 10259235.73524494,\n",
       "         10261708.2843217 , 10262012.89329978, 10263412.06615111,\n",
       "         10264180.71238001, 10264722.05737039, 10265892.27367131,\n",
       "         10266328.6602584 , 10266333.64425147, 10268127.23271502,\n",
       "         10268469.00504317, 10270567.37542436, 10272426.92659007,\n",
       "         10276189.54139374, 10276298.31782813, 10276301.16128661,\n",
       "         10278818.19351758, 10280988.93324874, 10281011.01510869,\n",
       "         10281611.81737785, 10282440.82679161, 10282963.91273818,\n",
       "         10283268.6899441 , 10284808.63436151, 10285002.26540247,\n",
       "         10285123.33642047, 10285370.98233366, 10287634.93284781,\n",
       "         10288552.32862516, 10288992.74101537, 10289493.37298943,\n",
       "         10292187.15159557, 10293338.25545632, 10293476.18889179,\n",
       "         10294603.68038002, 10294970.66067815, 10294977.23391581,\n",
       "         10295208.67533778, 10296080.46819422, 10296959.08671898,\n",
       "         10297135.00996045, 10298082.23354658, 10298356.45060213,\n",
       "         10299168.44183704, 10300304.10141304, 10300615.57265885,\n",
       "         10300905.70247001, 10301616.79732441, 10302279.11536737,\n",
       "         10302434.12639317, 10303031.01767913, 10303507.73468922,\n",
       "         10303544.68804708, 10303794.31353568, 10304762.05736793,\n",
       "         10307061.78319012, 10309541.48567954, 10311166.22872957,\n",
       "         10312274.90671935, 10312859.22067123, 10312888.90795415,\n",
       "         10313168.3089547 , 10313240.51331596, 10313737.96292436,\n",
       "         10314426.84795934, 10314838.7376997 , 10314889.77959534,\n",
       "         10316168.04378005, 10316700.2098833 , 10317271.73126569,\n",
       "         10318863.64916666, 10319024.74315099, 10319498.27607977,\n",
       "         10320678.35057004, 10320856.81329194, 10321224.41167859,\n",
       "         10321412.43993858, 10322082.97490229, 10322632.50005734,\n",
       "         10323420.50377563, 10323461.03703614, 10328034.65114477,\n",
       "         10328173.33968302, 10329379.9395332 , 10329547.723984  ,\n",
       "         10329779.26664404, 10330739.23433946, 10331116.62609854,\n",
       "         10331575.25618276, 10332134.37730084, 10332408.50152967,\n",
       "         10332738.74974132, 10332756.3357887 , 10334867.12387043,\n",
       "         10336543.6184569 , 10337358.84506868, 10338055.73376106,\n",
       "         10339763.26399204, 10339819.05502857, 10340768.90498187,\n",
       "         10341291.32316866, 10341323.43141153, 10342249.46510601,\n",
       "         10343847.65388093, 10344811.29518905, 10344814.27675779,\n",
       "         10345848.21938846, 10346100.72005748, 10347098.15128545,\n",
       "         10347195.40129323, 10348256.69649795, 10349938.87302561,\n",
       "         10350631.25470847, 10354236.80138885, 10354840.60187377,\n",
       "         10355086.83069096, 10356271.72096458, 10358245.01989262,\n",
       "         10358710.81088042, 10358785.92682915, 10359635.56158802,\n",
       "         10360353.40582624, 10361815.74291678, 10362380.76666004,\n",
       "         10362683.7337106 , 10362986.20440987, 10362987.32059677,\n",
       "         10366367.24340683, 10366588.59726904, 10367568.03457485,\n",
       "         10367582.24122478, 10367843.90094631, 10367934.54736582,\n",
       "         10367969.55076747, 10371348.46003036, 10371372.45851591,\n",
       "         10372027.23852254, 10372129.63210053, 10373000.49948674,\n",
       "         10373479.40771967, 10373691.94200793, 10373802.43544693,\n",
       "         10374908.54893547, 10377760.00586944, 10378143.741965  ,\n",
       "         10382982.93569602, 10383165.17289604, 10383261.81962231,\n",
       "         10385723.77922456, 10385892.52218254, 10386454.79263433,\n",
       "         10386847.90981022, 10387975.79400525, 10389444.58644553,\n",
       "         10390042.23451952, 10390154.22453937, 10390906.23453912,\n",
       "         10391064.56881313, 10391309.05131956, 10391413.84483463,\n",
       "         10392257.8370028 , 10393231.93860828, 10393437.24244203,\n",
       "         10393675.25987148, 10394296.32914432, 10395643.97811262,\n",
       "         10396015.62749712, 10396171.58804794, 10396245.22106223,\n",
       "         10396854.20338809, 10396916.2814792 , 10397011.52675126,\n",
       "         10397263.04973092, 10397638.4195419 , 10399661.21626237,\n",
       "         10400685.87285993, 10402214.74704321, 10402484.79061146,\n",
       "         10402899.95900924, 10403322.6149332 , 10403447.01462279,\n",
       "         10403589.73375528, 10404849.92468305, 10405060.66896008,\n",
       "         10405772.4945846 , 10406366.68262547, 10407130.21433902,\n",
       "         10408715.03745617, 10409323.52761647, 10410229.70638824,\n",
       "         10411068.79553827, 10412904.78787957, 10413880.40618553,\n",
       "         10414126.18978426, 10414577.12768602, 10415421.59313104,\n",
       "         10416443.28718881, 10418484.42021782, 10418982.88702597,\n",
       "         10421986.06189556, 10422283.08320085, 10422500.51743944,\n",
       "         10423060.53320328, 10423737.22754616, 10423830.59978757,\n",
       "         10424219.57227444, 10425946.3161437 , 10425954.14429506,\n",
       "         10426407.71805459, 10426447.08809513, 10426505.0228611 ,\n",
       "         10426900.32873595, 10427413.91009452, 10427717.38106429,\n",
       "         10428145.74061451, 10430352.87251669, 10430825.06713513,\n",
       "         10431705.98370622, 10431923.86283873, 10433616.21118656,\n",
       "         10434257.34011969, 10434739.51503921, 10434960.63254513,\n",
       "         10435429.65251356, 10436675.50901085, 10438154.81808835,\n",
       "         10438341.72645843, 10440544.2867256 , 10443832.62794673,\n",
       "         10444938.81293984, 10447105.83971004, 10449186.06801296,\n",
       "         10449420.59777624, 10450781.92062468, 10451301.25634973,\n",
       "         10451493.87575141, 10451562.40019787, 10451817.36280359,\n",
       "         10452624.67199656, 10453111.57199412, 10453304.23736773,\n",
       "         10454154.02353398, 10454255.91290012, 10454947.64899692,\n",
       "         10455236.44562794, 10455969.05867194, 10456211.67774941,\n",
       "         10457246.22350417, 10457265.9847707 , 10457627.91489704,\n",
       "         10458741.72661396, 10459965.43897573, 10460854.12385276,\n",
       "         10462349.24981501, 10463797.40072386, 10464198.181694  ,\n",
       "         10464676.5596808 , 10467245.42038793, 10467514.57009721,\n",
       "         10467740.9459441 , 10467767.16271978, 10468199.75112949,\n",
       "         10470075.79126952, 10470132.29158591, 10470332.11299366,\n",
       "         10471542.74552076, 10472747.06492987, 10472949.16299115,\n",
       "         10472989.33945096, 10473393.25030147, 10473666.24160205,\n",
       "         10474010.69497427, 10474357.39838372, 10474827.59182918,\n",
       "         10475051.57767479, 10475381.29540526, 10477483.91119371,\n",
       "         10477607.59510563, 10477739.21454117, 10478619.45714113,\n",
       "         10479344.42242602, 10479358.95483955, 10481486.0779073 ,\n",
       "         10481950.18624678, 10482163.75987644, 10482251.23678132,\n",
       "         10482960.87265624, 10485112.6554088 , 10485125.86115103,\n",
       "         10486522.46962519, 10486676.13469231, 10486953.05665748,\n",
       "         10487890.54400824, 10489342.31202585, 10489755.79300615,\n",
       "         10491413.03194981, 10491850.47799099, 10491972.38413238,\n",
       "         10492686.57836535, 10493167.61931523, 10495712.6215342 ,\n",
       "         10495976.1260522 , 10496653.7117572 , 10498446.02961901,\n",
       "         10498644.4596907 , 10499235.20130434, 10500285.75103538,\n",
       "         10500404.38286369, 10501018.61941974, 10501288.47033423,\n",
       "         10503049.03541533, 10503405.28089478, 10505392.30668332,\n",
       "         10505409.85827227, 10505586.53043669, 10505846.37553006,\n",
       "         10506492.62463301, 10506594.95367714, 10506651.19935935,\n",
       "         10507692.60384697, 10509610.83690365, 10512180.00379878,\n",
       "         10512785.93039654, 10514231.48402905, 10516265.46524678,\n",
       "         10519743.98767539, 10524949.60487894, 10526056.83537807,\n",
       "         10526286.09423938, 10527875.94732424, 10530591.5982286 ,\n",
       "         10531971.00889506, 10534499.29668344, 10537008.97130424,\n",
       "         10537998.03338185, 10541364.98572977, 10543229.60980142,\n",
       "         10543260.10959695, 10543884.92751621, 10545436.36370066,\n",
       "         10547600.08237242, 10548971.72830632, 10549227.90765918,\n",
       "         10550787.51285601, 10552653.77430614, 10553658.1448983 ,\n",
       "         10555487.5249021 , 10557192.24364991, 10562232.76077026,\n",
       "         10562928.37406006, 10563836.88114098, 10564410.02590781,\n",
       "         10564659.46507228, 10567769.39510933, 10569071.67391656,\n",
       "         10572780.26521274, 10573225.80031293, 10576366.7488527 ,\n",
       "         10576416.9768053 , 10578155.00759022, 10578547.42531244,\n",
       "         10578919.43293531, 10584370.39134545, 10585095.80509044,\n",
       "         10586775.64812677, 10590429.82816242, 10590784.44022983,\n",
       "         10593721.93903692, 10598273.16557644, 10598690.32060041,\n",
       "         10599259.28662782, 10599495.19214481, 10600337.04563892,\n",
       "         10602698.87073774, 10604394.42338023, 10605736.58544062,\n",
       "         10611216.92261223, 10611282.28661263, 10612611.22353858,\n",
       "         10617698.35754509, 10618018.43480141, 10637513.4095361 ,\n",
       "         10644600.0946351 , 10650099.99107252, 10657123.55757297,\n",
       "         10661934.79682791, 10664999.91408882, 10672011.86399579,\n",
       "         10684134.23362259, 10686373.01728875, 10688694.75217668,\n",
       "         10688927.35362761, 10690710.36603843, 10696825.67571592,\n",
       "         10716632.07907705, 10721771.33178006, 10722313.82731159,\n",
       "         10732045.01776595, 10741603.9856857 , 10793022.12959616,\n",
       "         10888053.85329919, 10889283.65588685])),\n",
       " (4601.912429461579, 8086221.425354614, 0.9985085618765123))"
      ]
     },
     "execution_count": 56,
     "metadata": {},
     "output_type": "execute_result"
    },
    {
     "data": {
      "image/png": "[encoded data removed]",
      "text/plain": [
       "<Figure size 432x288 with 1 Axes>"
      ]
     },
     "metadata": {
      "needs_background": "light"
     },
     "output_type": "display_data"
    }
   ],
   "source": [
    "res=sc.stats.probplot(temp1, dist=\"chi2\", \n",
    "                     sparams=(len(temp1)-1), plot=plt)"
   ]
  },
  {
   "cell_type": "code",
   "execution_count": null,
   "metadata": {},
   "outputs": [],
   "source": []
  },
  {
   "cell_type": "code",
   "execution_count": 61,
   "metadata": {},
   "outputs": [
    {
     "data": {
      "text/plain": [
       "((array([496.00790142, 496.28984073, 496.44837459, 496.56078615,\n",
       "         496.64886689, 496.72177909, 496.78427733, 496.83915848,\n",
       "         496.88821233, 496.93265597, 496.97335597, 497.01095206,\n",
       "         497.04593046, 497.07866967, 497.10947035, 497.13857541,\n",
       "         497.16618407, 497.1924618 , 497.2175476 , 497.24155939,\n",
       "         497.26459814, 497.28675096, 497.30809357, 497.3286922 ,\n",
       "         497.34860517, 497.36788405, 497.38657472, 497.40471817,\n",
       "         497.42235117, 497.43950686, 497.45621519, 497.47250333,\n",
       "         497.48839601, 497.50391582, 497.51908341, 497.53391776,\n",
       "         497.54843633, 497.56265521, 497.57658929, 497.59025236,\n",
       "         497.60365721, 497.61681574, 497.62973905, 497.64243747,\n",
       "         497.65492068, 497.66719774, 497.67927713, 497.69116683,\n",
       "         497.70287433, 497.71440669, 497.72577056, 497.73697222,\n",
       "         497.74801761, 497.75891232, 497.76966169, 497.78027074,\n",
       "         497.79074426, 497.80108678, 497.81130262, 497.82139589,\n",
       "         497.8313705 , 497.84123017, 497.85097846, 497.86061877,\n",
       "         497.87015434, 497.87958827, 497.88892352, 497.89816293,\n",
       "         497.90730923, 497.91636502, 497.92533281, 497.93421499,\n",
       "         497.94301388, 497.95173169, 497.96037054, 497.9689325 ,\n",
       "         497.97741954, 497.98583355, 497.99417636, 498.00244975,\n",
       "         498.01065542, 498.018795  , 498.0268701 , 498.03488223,\n",
       "         498.04283288, 498.05072347, 498.05855541, 498.06633002,\n",
       "         498.0740486 , 498.0817124 , 498.08932265, 498.09688051,\n",
       "         498.10438714, 498.11184363, 498.11925107, 498.1266105 ,\n",
       "         498.13392292, 498.14118932, 498.14841066, 498.15558786,\n",
       "         498.16272182, 498.16981342, 498.17686352, 498.18387294,\n",
       "         498.19084249, 498.19777295, 498.20466509, 498.21151966,\n",
       "         498.21833739, 498.22511897, 498.2318651 , 498.23857645,\n",
       "         498.24525368, 498.25189743, 498.25850831, 498.26508696,\n",
       "         498.27163394, 498.27814986, 498.28463527, 498.29109073,\n",
       "         498.29751678, 498.30391396, 498.31028277, 498.31662373,\n",
       "         498.32293733, 498.32922406, 498.33548438, 498.34171877,\n",
       "         498.34792768, 498.35411155, 498.36027083, 498.36640592,\n",
       "         498.37251726, 498.37860526, 498.38467031, 498.39071281,\n",
       "         498.39673314, 498.40273169, 498.40870883, 498.41466491,\n",
       "         498.4206003 , 498.42651535, 498.4324104 , 498.43828579,\n",
       "         498.44414186, 498.44997892, 498.45579731, 498.46159733,\n",
       "         498.46737929, 498.4731435 , 498.47889026, 498.48461986,\n",
       "         498.4903326 , 498.49602874, 498.50170858, 498.50737239,\n",
       "         498.51302045, 498.51865301, 498.52427034, 498.5298727 ,\n",
       "         498.53546034, 498.54103351, 498.54659247, 498.55213745,\n",
       "         498.55766869, 498.56318643, 498.56869091, 498.57418235,\n",
       "         498.57966098, 498.58512702, 498.59058069, 498.59602221,\n",
       "         498.6014518 , 498.60686966, 498.61227601, 498.61767105,\n",
       "         498.62305498, 498.62842801, 498.63379033, 498.63914214,\n",
       "         498.64448364, 498.64981501, 498.65513645, 498.66044814,\n",
       "         498.66575027, 498.67104302, 498.67632656, 498.68160109,\n",
       "         498.68686678, 498.69212379, 498.69737231, 498.70261251,\n",
       "         498.70784456, 498.71306862, 498.71828486, 498.72349344,\n",
       "         498.72869454, 498.7338883 , 498.7390749 , 498.74425449,\n",
       "         498.74942723, 498.75459327, 498.75975277, 498.76490588,\n",
       "         498.77005275, 498.77519355, 498.7803284 , 498.78545748,\n",
       "         498.79058091, 498.79569885, 498.80081145, 498.80591885,\n",
       "         498.81102118, 498.81611861, 498.82121126, 498.82629927,\n",
       "         498.8313828 , 498.83646197, 498.84153692, 498.8466078 ,\n",
       "         498.85167473, 498.85673787, 498.86179733, 498.86685325,\n",
       "         498.87190577, 498.87695503, 498.88200115, 498.88704427,\n",
       "         498.89208452, 498.89712202, 498.90215692, 498.90718934,\n",
       "         498.91221941, 498.91724726, 498.92227301, 498.92729681,\n",
       "         498.93231877, 498.93733902, 498.9423577 , 498.94737492,\n",
       "         498.95239083, 498.95740553, 498.96241916, 498.96743185,\n",
       "         498.97244372, 498.97745489, 498.9824655 , 498.98747567,\n",
       "         498.99248553, 498.9974952 , 499.0025048 , 499.00751447,\n",
       "         499.01252433, 499.0175345 , 499.02254511, 499.02755628,\n",
       "         499.03256815, 499.03758084, 499.04259447, 499.04760917,\n",
       "         499.05262508, 499.0576423 , 499.06266098, 499.06768123,\n",
       "         499.07270319, 499.07772699, 499.08275274, 499.08778059,\n",
       "         499.09281066, 499.09784308, 499.10287798, 499.10791548,\n",
       "         499.11295573, 499.11799885, 499.12304497, 499.12809423,\n",
       "         499.13314675, 499.13820267, 499.14326213, 499.14832527,\n",
       "         499.1533922 , 499.15846308, 499.16353803, 499.1686172 ,\n",
       "         499.17370073, 499.17878874, 499.18388139, 499.18897882,\n",
       "         499.19408115, 499.19918855, 499.20430115, 499.20941909,\n",
       "         499.21454252, 499.2196716 , 499.22480645, 499.22994725,\n",
       "         499.23509412, 499.24024723, 499.24540673, 499.25057277,\n",
       "         499.25574551, 499.2609251 , 499.2661117 , 499.27130546,\n",
       "         499.27650656, 499.28171514, 499.28693138, 499.29215544,\n",
       "         499.29738749, 499.30262769, 499.30787621, 499.31313322,\n",
       "         499.31839891, 499.32367344, 499.32895698, 499.33424973,\n",
       "         499.33955186, 499.34486355, 499.35018499, 499.35551636,\n",
       "         499.36085786, 499.36620967, 499.37157199, 499.37694502,\n",
       "         499.38232895, 499.38772399, 499.39313034, 499.3985482 ,\n",
       "         499.40397779, 499.40941931, 499.41487298, 499.42033902,\n",
       "         499.42581765, 499.43130909, 499.43681357, 499.44233131,\n",
       "         499.44786255, 499.45340753, 499.45896649, 499.46453966,\n",
       "         499.4701273 , 499.47572966, 499.48134699, 499.48697955,\n",
       "         499.49262761, 499.49829142, 499.50397126, 499.5096674 ,\n",
       "         499.51538014, 499.52110974, 499.5268565 , 499.53262071,\n",
       "         499.53840267, 499.54420269, 499.55002108, 499.55585814,\n",
       "         499.56171421, 499.5675896 , 499.57348465, 499.5793997 ,\n",
       "         499.58533509, 499.59129117, 499.59726831, 499.60326686,\n",
       "         499.60928719, 499.61532969, 499.62139474, 499.62748274,\n",
       "         499.63359408, 499.63972917, 499.64588845, 499.65207232,\n",
       "         499.65828123, 499.66451562, 499.67077594, 499.67706267,\n",
       "         499.68337627, 499.68971723, 499.69608604, 499.70248322,\n",
       "         499.70890927, 499.71536473, 499.72185014, 499.72836606,\n",
       "         499.73491304, 499.74149169, 499.74810257, 499.75474632,\n",
       "         499.76142355, 499.7681349 , 499.77488103, 499.78166261,\n",
       "         499.78848034, 499.79533491, 499.80222705, 499.80915751,\n",
       "         499.81612706, 499.82313648, 499.83018658, 499.83727818,\n",
       "         499.84441214, 499.85158934, 499.85881068, 499.86607708,\n",
       "         499.8733895 , 499.88074893, 499.88815637, 499.89561286,\n",
       "         499.90311949, 499.91067735, 499.9182876 , 499.9259514 ,\n",
       "         499.93366998, 499.94144459, 499.94927653, 499.95716712,\n",
       "         499.96511777, 499.9731299 , 499.981205  , 499.98934458,\n",
       "         499.99755025, 500.00582364, 500.01416645, 500.02258046,\n",
       "         500.0310675 , 500.03962946, 500.04826831, 500.05698612,\n",
       "         500.06578501, 500.07466719, 500.08363498, 500.09269077,\n",
       "         500.10183707, 500.11107648, 500.12041173, 500.12984566,\n",
       "         500.13938123, 500.14902154, 500.15876983, 500.1686295 ,\n",
       "         500.17860411, 500.18869738, 500.19891322, 500.20925574,\n",
       "         500.21972926, 500.23033831, 500.24108768, 500.25198239,\n",
       "         500.26302778, 500.27422944, 500.28559331, 500.29712567,\n",
       "         500.30883317, 500.32072287, 500.33280226, 500.34507932,\n",
       "         500.35756253, 500.37026095, 500.38318426, 500.39634279,\n",
       "         500.40974764, 500.42341071, 500.43734479, 500.45156367,\n",
       "         500.46608224, 500.48091659, 500.49608418, 500.51160399,\n",
       "         500.52749667, 500.54378481, 500.56049314, 500.57764883,\n",
       "         500.59528183, 500.61342528, 500.63211595, 500.65139483,\n",
       "         500.6713078 , 500.69190643, 500.71324904, 500.73540186,\n",
       "         500.75844061, 500.7824524 , 500.8075382 , 500.83381593,\n",
       "         500.86142459, 500.89052965, 500.92133033, 500.95406954,\n",
       "         500.98904794, 501.02664403, 501.06734403, 501.11178767,\n",
       "         501.16084152, 501.21572267, 501.27822091, 501.35113311,\n",
       "         501.43921385, 501.55162541, 501.71015927, 501.99209858]),\n",
       "  array([11.17120125, 11.18500882, 11.18748638, 11.18912403, 11.1907898 ,\n",
       "         11.19600849, 11.20214089, 11.20214792, 11.2030054 , 11.20511045,\n",
       "         11.20569382, 11.20576059, 11.20579222, 11.20767587, 11.20978092,\n",
       "         11.21077897, 11.21103903, 11.21279265, 11.21284537, 11.21313354,\n",
       "         11.21453222, 11.2158571 , 11.21620501, 11.21633504, 11.21636667,\n",
       "         11.21772669, 11.21811326, 11.21924837, 11.21988797, 11.22030616,\n",
       "         11.22152913, 11.22187353, 11.22320192, 11.22375015, 11.22513126,\n",
       "         11.2254124 , 11.22545457, 11.22676188, 11.22677242, 11.22685325,\n",
       "         11.22729956, 11.22747879, 11.22752799, 11.22755259, 11.22939407,\n",
       "         11.22980875, 11.22989661, 11.23031129, 11.23090169, 11.23143586,\n",
       "         11.23200869, 11.23223009, 11.2329224 , 11.2331684 , 11.23324923,\n",
       "         11.23348117, 11.23444759, 11.23479902, 11.2354351 , 11.23545267,\n",
       "         11.23559676, 11.23609578, 11.2369111 , 11.23738552, 11.23756826,\n",
       "         11.23758584, 11.23768424, 11.23769478, 11.23797943, 11.23808486,\n",
       "         11.23816921, 11.23818678, 11.23867175, 11.24015125, 11.24045348,\n",
       "         11.24156048, 11.24158156, 11.24174673, 11.2421579 , 11.24265693,\n",
       "         11.24365498, 11.24374284, 11.24398884, 11.24418915, 11.24457572,\n",
       "         11.24475495, 11.24518369, 11.24547186, 11.24616417, 11.24619932,\n",
       "         11.2464664 , 11.24656129, 11.24704977, 11.24709194, 11.24715168,\n",
       "         11.24715168, 11.24741525, 11.24825868, 11.24838871, 11.24839925,\n",
       "         11.24844493, 11.24856793, 11.24862416, 11.2496187 , 11.24976279,\n",
       "         11.25039184, 11.2505043 , 11.25053241, 11.25114741, 11.25128798,\n",
       "         11.25129852, 11.25141098, 11.25164995, 11.25188189, 11.25189595,\n",
       "         11.25211383, 11.25213492, 11.2523036 , 11.25249338, 11.25253906,\n",
       "         11.25306972, 11.25316812, 11.25338951, 11.25342114, 11.25371283,\n",
       "         11.25375851, 11.2538288 , 11.25397991, 11.25403263, 11.25448597,\n",
       "         11.25458085, 11.25460194, 11.25499202, 11.25509745, 11.25516774,\n",
       "         11.25567028, 11.25612713, 11.25616579, 11.25636962, 11.2563907 ,\n",
       "         11.25639773, 11.25642233, 11.25647856, 11.25656993, 11.25686864,\n",
       "         11.25731496, 11.25737821, 11.25761367, 11.25816892, 11.2582357 ,\n",
       "         11.25843601, 11.25859415, 11.25871715, 11.25872418, 11.25882961,\n",
       "         11.25888232, 11.25897721, 11.25914589, 11.25942703, 11.25951138,\n",
       "         11.259543  , 11.25973629, 11.25993309, 11.26033723, 11.26038292,\n",
       "         11.26082923, 11.2609944 , 11.26122634, 11.26122634, 11.26124743,\n",
       "         11.26149694, 11.26164454, 11.26206625, 11.26227359, 11.26243174,\n",
       "         11.26253716, 11.26279371, 11.26285696, 11.26289562, 11.26296942,\n",
       "         11.2633841 , 11.2634579 , 11.26427673, 11.26504987, 11.26510258,\n",
       "         11.26515178, 11.26552078, 11.26556998, 11.26581598, 11.26624823,\n",
       "         11.26671915, 11.2668808 , 11.26722872, 11.26741497, 11.26768557,\n",
       "         11.26794563, 11.26805106, 11.26847628, 11.26860982, 11.26866605,\n",
       "         11.26888042, 11.26950948, 11.26969925, 11.26974845, 11.26999093,\n",
       "         11.2701807 , 11.27034236, 11.27077462, 11.27158641, 11.27193433,\n",
       "         11.27213464, 11.27214518, 11.27253175, 11.27259852, 11.27350169,\n",
       "         11.27371255, 11.27404992, 11.27417994, 11.27440837, 11.27448217,\n",
       "         11.27454543, 11.27467897, 11.27490388, 11.27490388, 11.27499877,\n",
       "         11.27517097, 11.27519205, 11.27526585, 11.27579651, 11.27587031,\n",
       "         11.27594059, 11.27628851, 11.27634825, 11.27666102, 11.27688242,\n",
       "         11.2770265 , 11.2771249 , 11.2771987 , 11.27720925, 11.27730062,\n",
       "         11.27775396, 11.27790156, 11.27856927, 11.2787977 , 11.27895233,\n",
       "         11.27895584, 11.27935998, 11.27963058, 11.28012961, 11.28028775,\n",
       "         11.28037561, 11.28063215, 11.28085355, 11.2808676 , 11.28087112,\n",
       "         11.28099763, 11.28108549, 11.28134203, 11.28269151, 11.28270908,\n",
       "         11.28364388, 11.28382662, 11.28386176, 11.28396719, 11.28400585,\n",
       "         11.28443107, 11.28443107, 11.28463842, 11.28489496, 11.2852499 ,\n",
       "         11.2856927 , 11.2861109 , 11.28641664, 11.28647287, 11.28672589,\n",
       "         11.28707381, 11.28717221, 11.28756229, 11.28761149, 11.28770286,\n",
       "         11.28798049, 11.28801212, 11.28811403, 11.28820892, 11.28833192,\n",
       "         11.28860251, 11.28866226, 11.28885203, 11.2889188 , 11.28905937,\n",
       "         11.28909451, 11.28925968, 11.28984657, 11.28994145, 11.29009959,\n",
       "         11.29022611, 11.29039479, 11.29045454, 11.29045805, 11.29047562,\n",
       "         11.29064079, 11.29064782, 11.29072865, 11.29115388, 11.2917513 ,\n",
       "         11.29207813, 11.29221519, 11.29236981, 11.29251741, 11.2925631 ,\n",
       "         11.29284073, 11.29312538, 11.29329055, 11.29362089, 11.29363847,\n",
       "         11.29375795, 11.29391258, 11.29451001, 11.29468572, 11.29475249,\n",
       "         11.2958384 , 11.29602817, 11.29635148, 11.29635851, 11.29643583,\n",
       "         11.29668885, 11.29699108, 11.29715274, 11.29742334, 11.29774665,\n",
       "         11.2982773 , 11.29853385, 11.29862522, 11.29890987, 11.29897313,\n",
       "         11.2990891 , 11.29932807, 11.29935619, 11.2997779 , 11.29979196,\n",
       "         11.30008364, 11.30021015, 11.30027341, 11.30041047, 11.30082515,\n",
       "         11.30086029, 11.30109575, 11.30182672, 11.30208677, 11.30212192,\n",
       "         11.30229412, 11.30257174, 11.30258932, 11.30265609, 11.30288451,\n",
       "         11.3029302 , 11.30293371, 11.30306726, 11.3030778 , 11.30318674,\n",
       "         11.30328866, 11.30335894, 11.30372794, 11.3040372 , 11.30405477,\n",
       "         11.30413911, 11.30451865, 11.30459948, 11.30461354, 11.30500011,\n",
       "         11.30528828, 11.30528828, 11.30542182, 11.30549562, 11.30578027,\n",
       "         11.30583299, 11.30592084, 11.30615982, 11.30658504, 11.30661316,\n",
       "         11.30694701, 11.3072633 , 11.30732304, 11.3074355 , 11.30754795,\n",
       "         11.30815592, 11.30868658, 11.30876389, 11.3087674 , 11.30887635,\n",
       "         11.30930509, 11.30966354, 11.3097268 , 11.31000091, 11.31000443,\n",
       "         11.31044723, 11.31074242, 11.31093571, 11.31111494, 11.31159288,\n",
       "         11.31182833, 11.31206379, 11.31214111, 11.31232736, 11.31283342,\n",
       "         11.31409855, 11.3142567 , 11.31470652, 11.31472058, 11.31478735,\n",
       "         11.31504038, 11.31533206, 11.31548318, 11.31562375, 11.31604195,\n",
       "         11.31640392, 11.31677994, 11.31717003, 11.31756363, 11.31768663,\n",
       "         11.31809077, 11.31832974, 11.31842462, 11.31862142, 11.31912396,\n",
       "         11.31929616, 11.31957379, 11.31963002, 11.32044533, 11.32085298,\n",
       "         11.32099707, 11.3215453 , 11.32199864, 11.32235006, 11.32329892,\n",
       "         11.32335866, 11.3233692 , 11.3236644 , 11.32560428, 11.32596976,\n",
       "         11.32604005, 11.32663396, 11.32676047, 11.32682725, 11.3273579 ,\n",
       "         11.32740007, 11.32753361, 11.32762499, 11.32799398, 11.32925561,\n",
       "         11.32933644, 11.33013769, 11.33049614, 11.33096003, 11.33228491,\n",
       "         11.33269608, 11.33281556, 11.33292099, 11.33391905, 11.33401393,\n",
       "         11.33455864, 11.33475193, 11.33488547, 11.33491358, 11.3351385 ,\n",
       "         11.3352861 , 11.33605572, 11.33646689, 11.33987222, 11.34001982,\n",
       "         11.34109519, 11.3413693 , 11.34174181, 11.34278907, 11.343882  ,\n",
       "         11.3441772 , 11.34554074, 11.34730139, 11.34739276, 11.3484857 ,\n",
       "         11.34858761, 11.34905501, 11.34930804, 11.34931858, 11.35042558,\n",
       "         11.35071023, 11.35341974, 11.35352517, 11.35402068, 11.35736626,\n",
       "         11.36004062, 11.36097894, 11.36107031, 11.36720974, 11.36822888,\n",
       "         11.36953619, 11.37101218, 11.37605516, 11.39148281, 11.40458753])),\n",
       " (0.038216113157150434, -7.78952096191434, 0.9991755399263498))"
      ]
     },
     "execution_count": 61,
     "metadata": {},
     "output_type": "execute_result"
    },
    {
     "data": {
      "image/png": "[encoded data removed]",
      "text/plain": [
       "<Figure size 432x288 with 1 Axes>"
      ]
     },
     "metadata": {
      "needs_background": "light"
     },
     "output_type": "display_data"
    }
   ],
   "source": [
    "sc.stats.probplot(np.array(control.mean(axis=1)),dist=\"norm\",sparams=(len(temp1)-1), plot=plt)"
   ]
  },
  {
   "cell_type": "code",
   "execution_count": 62,
   "metadata": {},
   "outputs": [
    {
     "data": {
      "text/plain": [
       "0         23\n",
       "1          3\n",
       "2         29\n",
       "4         54\n",
       "6          6\n",
       "          ..\n",
       "566125     0\n",
       "566126     0\n",
       "566127     4\n",
       "566130     4\n",
       "566133     3\n",
       "Name: n_clicks, Length: 281580, dtype: int64"
      ]
     },
     "execution_count": 62,
     "metadata": {},
     "output_type": "execute_result"
    }
   ],
   "source": [
    "data[data.slot=='exp'].n_clicks"
   ]
  },
  {
   "cell_type": "markdown",
   "metadata": {},
   "source": [
    "5 Задача"
   ]
  },
  {
   "cell_type": "code",
   "execution_count": 77,
   "metadata": {},
   "outputs": [
    {
     "data": {
      "text/plain": [
       "(n_clicks    11.589352\n",
       " dtype: float64,\n",
       " n_clicks    11.287332\n",
       " dtype: float64)"
      ]
     },
     "execution_count": 77,
     "metadata": {},
     "output_type": "execute_result"
    }
   ],
   "source": [
    "exp=data[data.slot=='exp'].pivot_table(values='n_clicks',index=['userID'], aggfunc='sum')\n",
    "control=data[data.slot=='control'].pivot_table(values='n_clicks',index=['userID'], aggfunc='sum')\n",
    "exp.mean(), control.mean()"
   ]
  },
  {
   "cell_type": "code",
   "execution_count": 78,
   "metadata": {},
   "outputs": [],
   "source": [
    "from scipy.stats import mannwhitneyu"
   ]
  },
  {
   "cell_type": "code",
   "execution_count": 110,
   "metadata": {},
   "outputs": [
    {
     "data": {
      "text/plain": [
       "MannwhitneyuResult(statistic=2547597959.5, pvalue=0.2574055152210032)"
      ]
     },
     "execution_count": 110,
     "metadata": {},
     "output_type": "execute_result"
    }
   ],
   "source": [
    "mannwhitneyu(exp, control)"
   ]
  },
  {
   "cell_type": "markdown",
   "metadata": {},
   "source": [
    "6 Задача"
   ]
  },
  {
   "cell_type": "code",
   "execution_count": 95,
   "metadata": {},
   "outputs": [
    {
     "data": {
      "text/plain": [
       "array(['Browser #2', 'Browser #4', 'Browser #14', 'Browser #17',\n",
       "       'Browser #20', 'Browser #22'], dtype=object)"
      ]
     },
     "execution_count": 95,
     "metadata": {},
     "output_type": "execute_result"
    }
   ],
   "source": [
    "browsers=np.array(data.browser.unique())\n",
    "browsers"
   ]
  },
  {
   "cell_type": "code",
   "execution_count": 104,
   "metadata": {},
   "outputs": [
    {
     "name": "stdout",
     "output_type": "stream",
     "text": [
      "Browser #2\n",
      "MannwhitneyuResult(statistic=1522572720.0, pvalue=0.0272438604197241)\n",
      "Browser #4\n",
      "MannwhitneyuResult(statistic=3072447765.0, pvalue=0.40760617658454984)\n",
      "Browser #14\n",
      "MannwhitneyuResult(statistic=806984730.5, pvalue=0.0)\n",
      "Browser #17\n",
      "MannwhitneyuResult(statistic=131389681.0, pvalue=0.03740060143010802)\n",
      "Browser #20\n",
      "MannwhitneyuResult(statistic=143791805.0, pvalue=0.45366656388735377)\n",
      "Browser #22\n",
      "MannwhitneyuResult(statistic=2547597959.5, pvalue=0.2574055152210032)\n"
     ]
    }
   ],
   "source": [
    "for i in browsers:\n",
    "    print(i)\n",
    "    exp=data[(data.slot=='exp')& (data.browser==i)].pivot_table(values='n_clicks',index=['userID'], aggfunc='sum')\n",
    "    control=data[(data.slot=='control')& (data.browser==i)].pivot_table(values='n_clicks',index=['userID'], aggfunc='sum')\n",
    "    #print(exp.mean(), control.mean())\n",
    "    print(mannwhitneyu(exp, control))"
   ]
  },
  {
   "cell_type": "markdown",
   "metadata": {},
   "source": [
    "7 Задача"
   ]
  },
  {
   "cell_type": "code",
   "execution_count": 108,
   "metadata": {},
   "outputs": [],
   "source": [
    "temp3=data.pivot_table(values=['n_queries','n_nonclk_queries'],index=['browser','slot'], aggfunc='sum')\n",
    "temp3['pen']=temp3['n_nonclk_queries']/temp3['n_queries']"
   ]
  },
  {
   "cell_type": "code",
   "execution_count": 109,
   "metadata": {},
   "outputs": [
    {
     "data": {
      "text/html": [
       "<div>\n",
       "<style scoped>\n",
       "    .dataframe tbody tr th:only-of-type {\n",
       "        vertical-align: middle;\n",
       "    }\n",
       "\n",
       "    .dataframe tbody tr th {\n",
       "        vertical-align: top;\n",
       "    }\n",
       "\n",
       "    .dataframe thead th {\n",
       "        text-align: right;\n",
       "    }\n",
       "</style>\n",
       "<table border=\"1\" class=\"dataframe\">\n",
       "  <thead>\n",
       "    <tr style=\"text-align: right;\">\n",
       "      <th></th>\n",
       "      <th></th>\n",
       "      <th>n_nonclk_queries</th>\n",
       "      <th>n_queries</th>\n",
       "      <th>pen</th>\n",
       "    </tr>\n",
       "    <tr>\n",
       "      <th>browser</th>\n",
       "      <th>slot</th>\n",
       "      <th></th>\n",
       "      <th></th>\n",
       "      <th></th>\n",
       "    </tr>\n",
       "  </thead>\n",
       "  <tbody>\n",
       "    <tr>\n",
       "      <th rowspan=\"2\" valign=\"top\">Browser #14</th>\n",
       "      <th>control</th>\n",
       "      <td>161252</td>\n",
       "      <td>279998</td>\n",
       "      <td>0.575904</td>\n",
       "    </tr>\n",
       "    <tr>\n",
       "      <th>exp</th>\n",
       "      <td>123656</td>\n",
       "      <td>282606</td>\n",
       "      <td>0.437556</td>\n",
       "    </tr>\n",
       "    <tr>\n",
       "      <th rowspan=\"2\" valign=\"top\">Browser #17</th>\n",
       "      <th>control</th>\n",
       "      <td>75837</td>\n",
       "      <td>208921</td>\n",
       "      <td>0.362994</td>\n",
       "    </tr>\n",
       "    <tr>\n",
       "      <th>exp</th>\n",
       "      <td>77614</td>\n",
       "      <td>210123</td>\n",
       "      <td>0.369374</td>\n",
       "    </tr>\n",
       "    <tr>\n",
       "      <th rowspan=\"2\" valign=\"top\">Browser #2</th>\n",
       "      <th>control</th>\n",
       "      <td>260259</td>\n",
       "      <td>566239</td>\n",
       "      <td>0.459627</td>\n",
       "    </tr>\n",
       "    <tr>\n",
       "      <th>exp</th>\n",
       "      <td>246514</td>\n",
       "      <td>548019</td>\n",
       "      <td>0.449827</td>\n",
       "    </tr>\n",
       "    <tr>\n",
       "      <th rowspan=\"2\" valign=\"top\">Browser #20</th>\n",
       "      <th>control</th>\n",
       "      <td>78548</td>\n",
       "      <td>193752</td>\n",
       "      <td>0.405405</td>\n",
       "    </tr>\n",
       "    <tr>\n",
       "      <th>exp</th>\n",
       "      <td>72998</td>\n",
       "      <td>187283</td>\n",
       "      <td>0.389774</td>\n",
       "    </tr>\n",
       "    <tr>\n",
       "      <th rowspan=\"2\" valign=\"top\">Browser #22</th>\n",
       "      <th>control</th>\n",
       "      <td>315470</td>\n",
       "      <td>777135</td>\n",
       "      <td>0.405940</td>\n",
       "    </tr>\n",
       "    <tr>\n",
       "      <th>exp</th>\n",
       "      <td>296177</td>\n",
       "      <td>743156</td>\n",
       "      <td>0.398539</td>\n",
       "    </tr>\n",
       "    <tr>\n",
       "      <th rowspan=\"2\" valign=\"top\">Browser #4</th>\n",
       "      <th>control</th>\n",
       "      <td>498254</td>\n",
       "      <td>1060771</td>\n",
       "      <td>0.469709</td>\n",
       "    </tr>\n",
       "    <tr>\n",
       "      <th>exp</th>\n",
       "      <td>456508</td>\n",
       "      <td>1011250</td>\n",
       "      <td>0.451429</td>\n",
       "    </tr>\n",
       "  </tbody>\n",
       "</table>\n",
       "</div>"
      ],
      "text/plain": [
       "                     n_nonclk_queries  n_queries       pen\n",
       "browser     slot                                          \n",
       "Browser #14 control            161252     279998  0.575904\n",
       "            exp                123656     282606  0.437556\n",
       "Browser #17 control             75837     208921  0.362994\n",
       "            exp                 77614     210123  0.369374\n",
       "Browser #2  control            260259     566239  0.459627\n",
       "            exp                246514     548019  0.449827\n",
       "Browser #20 control             78548     193752  0.405405\n",
       "            exp                 72998     187283  0.389774\n",
       "Browser #22 control            315470     777135  0.405940\n",
       "            exp                296177     743156  0.398539\n",
       "Browser #4  control            498254    1060771  0.469709\n",
       "            exp                456508    1011250  0.451429"
      ]
     },
     "execution_count": 109,
     "metadata": {},
     "output_type": "execute_result"
    }
   ],
   "source": [
    "temp3"
   ]
  },
  {
   "cell_type": "code",
   "execution_count": 111,
   "metadata": {},
   "outputs": [],
   "source": [
    "#ответ 4"
   ]
  },
  {
   "cell_type": "code",
   "execution_count": null,
   "metadata": {},
   "outputs": [],
   "source": []
  }
 ],
 "metadata": {
  "kernelspec": {
   "display_name": "Python 3",
   "language": "python",
   "name": "python3"
  },
  "language_info": {
   "codemirror_mode": {
    "name": "ipython",
    "version": 3
   },
   "file_extension": ".py",
   "mimetype": "text/x-python",
   "name": "python",
   "nbconvert_exporter": "python",
   "pygments_lexer": "ipython3",
   "version": "3.7.6"
  }
 },
 "nbformat": 4,
 "nbformat_minor": 4
}
