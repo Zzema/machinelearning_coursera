{
 "cells": [
  {
   "cell_type": "code",
   "execution_count": 144,
   "metadata": {},
   "outputs": [],
   "source": [
    "import pandas as pd\n",
    "import numpy as np\n",
    "from scipy import stats as scipy_stats\n",
    "def writed(name,ans12):\n",
    "    file=open(name,'w')\n",
    "    file.write(str(ans12))\n",
    "    file.close()"
   ]
  },
  {
   "cell_type": "code",
   "execution_count": 2,
   "metadata": {},
   "outputs": [
    {
     "data": {
      "text/html": [
       "<div>\n",
       "<style scoped>\n",
       "    .dataframe tbody tr th:only-of-type {\n",
       "        vertical-align: middle;\n",
       "    }\n",
       "\n",
       "    .dataframe tbody tr th {\n",
       "        vertical-align: top;\n",
       "    }\n",
       "\n",
       "    .dataframe thead th {\n",
       "        text-align: right;\n",
       "    }\n",
       "</style>\n",
       "<table border=\"1\" class=\"dataframe\">\n",
       "  <thead>\n",
       "    <tr style=\"text-align: right;\">\n",
       "      <th></th>\n",
       "      <th>Patient_id</th>\n",
       "      <th>Diagnosis</th>\n",
       "      <th>LOC643837</th>\n",
       "      <th>LOC100130417</th>\n",
       "      <th>SAMD11</th>\n",
       "      <th>NOC2L</th>\n",
       "      <th>KLHL17</th>\n",
       "      <th>PLEKHN1</th>\n",
       "      <th>C1orf170</th>\n",
       "      <th>HES4</th>\n",
       "      <th>...</th>\n",
       "      <th>CLIC2</th>\n",
       "      <th>RPS4Y1</th>\n",
       "      <th>ZFY</th>\n",
       "      <th>PRKY</th>\n",
       "      <th>USP9Y</th>\n",
       "      <th>DDX3Y</th>\n",
       "      <th>CD24</th>\n",
       "      <th>CYorf15B</th>\n",
       "      <th>KDM5D</th>\n",
       "      <th>EIF1AY</th>\n",
       "    </tr>\n",
       "  </thead>\n",
       "  <tbody>\n",
       "    <tr>\n",
       "      <th>0</th>\n",
       "      <td>STT5425_Breast_001_normal</td>\n",
       "      <td>normal</td>\n",
       "      <td>1.257614</td>\n",
       "      <td>2.408148</td>\n",
       "      <td>13.368622</td>\n",
       "      <td>9.494779</td>\n",
       "      <td>20.880435</td>\n",
       "      <td>12.722017</td>\n",
       "      <td>9.494779</td>\n",
       "      <td>54.349694</td>\n",
       "      <td>...</td>\n",
       "      <td>4.761250</td>\n",
       "      <td>1.257614</td>\n",
       "      <td>1.257614</td>\n",
       "      <td>1.257614</td>\n",
       "      <td>1.257614</td>\n",
       "      <td>1.257614</td>\n",
       "      <td>23.268694</td>\n",
       "      <td>1.257614</td>\n",
       "      <td>1.257614</td>\n",
       "      <td>1.257614</td>\n",
       "    </tr>\n",
       "    <tr>\n",
       "      <th>1</th>\n",
       "      <td>STT5427_Breast_023_normal</td>\n",
       "      <td>normal</td>\n",
       "      <td>4.567931</td>\n",
       "      <td>16.602734</td>\n",
       "      <td>42.477752</td>\n",
       "      <td>25.562376</td>\n",
       "      <td>23.221137</td>\n",
       "      <td>11.622386</td>\n",
       "      <td>14.330573</td>\n",
       "      <td>72.445474</td>\n",
       "      <td>...</td>\n",
       "      <td>6.871902</td>\n",
       "      <td>1.815112</td>\n",
       "      <td>1.815112</td>\n",
       "      <td>1.815112</td>\n",
       "      <td>1.815112</td>\n",
       "      <td>1.815112</td>\n",
       "      <td>10.427023</td>\n",
       "      <td>1.815112</td>\n",
       "      <td>1.815112</td>\n",
       "      <td>1.815112</td>\n",
       "    </tr>\n",
       "    <tr>\n",
       "      <th>2</th>\n",
       "      <td>STT5430_Breast_002_normal</td>\n",
       "      <td>normal</td>\n",
       "      <td>2.077597</td>\n",
       "      <td>3.978294</td>\n",
       "      <td>12.863214</td>\n",
       "      <td>13.728915</td>\n",
       "      <td>14.543176</td>\n",
       "      <td>14.141907</td>\n",
       "      <td>6.232790</td>\n",
       "      <td>57.011005</td>\n",
       "      <td>...</td>\n",
       "      <td>7.096343</td>\n",
       "      <td>2.077597</td>\n",
       "      <td>2.077597</td>\n",
       "      <td>2.077597</td>\n",
       "      <td>2.077597</td>\n",
       "      <td>2.077597</td>\n",
       "      <td>22.344226</td>\n",
       "      <td>2.077597</td>\n",
       "      <td>2.077597</td>\n",
       "      <td>2.077597</td>\n",
       "    </tr>\n",
       "    <tr>\n",
       "      <th>3</th>\n",
       "      <td>STT5439_Breast_003_normal</td>\n",
       "      <td>normal</td>\n",
       "      <td>2.066576</td>\n",
       "      <td>8.520713</td>\n",
       "      <td>14.466035</td>\n",
       "      <td>7.823932</td>\n",
       "      <td>8.520713</td>\n",
       "      <td>2.066576</td>\n",
       "      <td>10.870009</td>\n",
       "      <td>53.292034</td>\n",
       "      <td>...</td>\n",
       "      <td>5.200770</td>\n",
       "      <td>2.066576</td>\n",
       "      <td>2.066576</td>\n",
       "      <td>2.066576</td>\n",
       "      <td>2.066576</td>\n",
       "      <td>2.066576</td>\n",
       "      <td>49.295538</td>\n",
       "      <td>2.066576</td>\n",
       "      <td>2.066576</td>\n",
       "      <td>2.066576</td>\n",
       "    </tr>\n",
       "    <tr>\n",
       "      <th>4</th>\n",
       "      <td>STT5441_Breast_004_normal</td>\n",
       "      <td>normal</td>\n",
       "      <td>2.613616</td>\n",
       "      <td>3.434965</td>\n",
       "      <td>12.682222</td>\n",
       "      <td>10.543189</td>\n",
       "      <td>26.688686</td>\n",
       "      <td>12.484822</td>\n",
       "      <td>1.364917</td>\n",
       "      <td>67.140393</td>\n",
       "      <td>...</td>\n",
       "      <td>11.227770</td>\n",
       "      <td>1.364917</td>\n",
       "      <td>1.364917</td>\n",
       "      <td>1.364917</td>\n",
       "      <td>1.364917</td>\n",
       "      <td>1.364917</td>\n",
       "      <td>23.627911</td>\n",
       "      <td>1.364917</td>\n",
       "      <td>1.364917</td>\n",
       "      <td>1.364917</td>\n",
       "    </tr>\n",
       "  </tbody>\n",
       "</table>\n",
       "<p>5 rows × 15750 columns</p>\n",
       "</div>"
      ],
      "text/plain": [
       "                  Patient_id Diagnosis  LOC643837  LOC100130417     SAMD11  \\\n",
       "0  STT5425_Breast_001_normal    normal   1.257614      2.408148  13.368622   \n",
       "1  STT5427_Breast_023_normal    normal   4.567931     16.602734  42.477752   \n",
       "2  STT5430_Breast_002_normal    normal   2.077597      3.978294  12.863214   \n",
       "3  STT5439_Breast_003_normal    normal   2.066576      8.520713  14.466035   \n",
       "4  STT5441_Breast_004_normal    normal   2.613616      3.434965  12.682222   \n",
       "\n",
       "       NOC2L     KLHL17    PLEKHN1   C1orf170       HES4  ...      CLIC2  \\\n",
       "0   9.494779  20.880435  12.722017   9.494779  54.349694  ...   4.761250   \n",
       "1  25.562376  23.221137  11.622386  14.330573  72.445474  ...   6.871902   \n",
       "2  13.728915  14.543176  14.141907   6.232790  57.011005  ...   7.096343   \n",
       "3   7.823932   8.520713   2.066576  10.870009  53.292034  ...   5.200770   \n",
       "4  10.543189  26.688686  12.484822   1.364917  67.140393  ...  11.227770   \n",
       "\n",
       "     RPS4Y1       ZFY      PRKY     USP9Y     DDX3Y       CD24  CYorf15B  \\\n",
       "0  1.257614  1.257614  1.257614  1.257614  1.257614  23.268694  1.257614   \n",
       "1  1.815112  1.815112  1.815112  1.815112  1.815112  10.427023  1.815112   \n",
       "2  2.077597  2.077597  2.077597  2.077597  2.077597  22.344226  2.077597   \n",
       "3  2.066576  2.066576  2.066576  2.066576  2.066576  49.295538  2.066576   \n",
       "4  1.364917  1.364917  1.364917  1.364917  1.364917  23.627911  1.364917   \n",
       "\n",
       "      KDM5D    EIF1AY  \n",
       "0  1.257614  1.257614  \n",
       "1  1.815112  1.815112  \n",
       "2  2.077597  2.077597  \n",
       "3  2.066576  2.066576  \n",
       "4  1.364917  1.364917  \n",
       "\n",
       "[5 rows x 15750 columns]"
      ]
     },
     "execution_count": 2,
     "metadata": {},
     "output_type": "execute_result"
    }
   ],
   "source": [
    "data=pd.read_csv('c4w41_gene_high_throughput_sequencing.csv')\n",
    "data.head()"
   ]
  },
  {
   "cell_type": "code",
   "execution_count": 3,
   "metadata": {},
   "outputs": [
    {
     "data": {
      "text/html": [
       "<div>\n",
       "<style scoped>\n",
       "    .dataframe tbody tr th:only-of-type {\n",
       "        vertical-align: middle;\n",
       "    }\n",
       "\n",
       "    .dataframe tbody tr th {\n",
       "        vertical-align: top;\n",
       "    }\n",
       "\n",
       "    .dataframe thead th {\n",
       "        text-align: right;\n",
       "    }\n",
       "</style>\n",
       "<table border=\"1\" class=\"dataframe\">\n",
       "  <thead>\n",
       "    <tr style=\"text-align: right;\">\n",
       "      <th></th>\n",
       "      <th>LOC643837</th>\n",
       "      <th>LOC100130417</th>\n",
       "      <th>SAMD11</th>\n",
       "      <th>NOC2L</th>\n",
       "      <th>KLHL17</th>\n",
       "      <th>PLEKHN1</th>\n",
       "      <th>C1orf170</th>\n",
       "      <th>HES4</th>\n",
       "      <th>ISG15</th>\n",
       "      <th>AGRN</th>\n",
       "      <th>...</th>\n",
       "      <th>CLIC2</th>\n",
       "      <th>RPS4Y1</th>\n",
       "      <th>ZFY</th>\n",
       "      <th>PRKY</th>\n",
       "      <th>USP9Y</th>\n",
       "      <th>DDX3Y</th>\n",
       "      <th>CD24</th>\n",
       "      <th>CYorf15B</th>\n",
       "      <th>KDM5D</th>\n",
       "      <th>EIF1AY</th>\n",
       "    </tr>\n",
       "  </thead>\n",
       "  <tbody>\n",
       "    <tr>\n",
       "      <th>count</th>\n",
       "      <td>72.000000</td>\n",
       "      <td>72.000000</td>\n",
       "      <td>72.000000</td>\n",
       "      <td>72.000000</td>\n",
       "      <td>72.000000</td>\n",
       "      <td>72.000000</td>\n",
       "      <td>72.000000</td>\n",
       "      <td>72.000000</td>\n",
       "      <td>72.000000</td>\n",
       "      <td>72.000000</td>\n",
       "      <td>...</td>\n",
       "      <td>72.000000</td>\n",
       "      <td>72.000000</td>\n",
       "      <td>72.000000</td>\n",
       "      <td>72.000000</td>\n",
       "      <td>72.000000</td>\n",
       "      <td>72.000000</td>\n",
       "      <td>72.000000</td>\n",
       "      <td>72.000000</td>\n",
       "      <td>72.000000</td>\n",
       "      <td>72.000000</td>\n",
       "    </tr>\n",
       "    <tr>\n",
       "      <th>mean</th>\n",
       "      <td>2.463922</td>\n",
       "      <td>7.100958</td>\n",
       "      <td>19.056151</td>\n",
       "      <td>15.618688</td>\n",
       "      <td>23.537120</td>\n",
       "      <td>11.303466</td>\n",
       "      <td>8.921396</td>\n",
       "      <td>63.270147</td>\n",
       "      <td>53.906324</td>\n",
       "      <td>70.678573</td>\n",
       "      <td>...</td>\n",
       "      <td>5.563444</td>\n",
       "      <td>2.192029</td>\n",
       "      <td>1.967424</td>\n",
       "      <td>2.181360</td>\n",
       "      <td>1.729308</td>\n",
       "      <td>1.980733</td>\n",
       "      <td>16.834075</td>\n",
       "      <td>1.825827</td>\n",
       "      <td>2.287380</td>\n",
       "      <td>1.756827</td>\n",
       "    </tr>\n",
       "    <tr>\n",
       "      <th>std</th>\n",
       "      <td>1.413687</td>\n",
       "      <td>4.164703</td>\n",
       "      <td>9.287753</td>\n",
       "      <td>4.664146</td>\n",
       "      <td>4.475294</td>\n",
       "      <td>4.055122</td>\n",
       "      <td>3.270713</td>\n",
       "      <td>13.792140</td>\n",
       "      <td>45.635498</td>\n",
       "      <td>21.326237</td>\n",
       "      <td>...</td>\n",
       "      <td>2.389789</td>\n",
       "      <td>2.454218</td>\n",
       "      <td>2.047129</td>\n",
       "      <td>2.542652</td>\n",
       "      <td>1.507149</td>\n",
       "      <td>2.230157</td>\n",
       "      <td>7.126802</td>\n",
       "      <td>1.902716</td>\n",
       "      <td>3.185571</td>\n",
       "      <td>1.623151</td>\n",
       "    </tr>\n",
       "    <tr>\n",
       "      <th>min</th>\n",
       "      <td>0.833898</td>\n",
       "      <td>1.231043</td>\n",
       "      <td>4.941211</td>\n",
       "      <td>6.395270</td>\n",
       "      <td>8.520713</td>\n",
       "      <td>2.066576</td>\n",
       "      <td>1.364917</td>\n",
       "      <td>42.544976</td>\n",
       "      <td>24.616767</td>\n",
       "      <td>42.631422</td>\n",
       "      <td>...</td>\n",
       "      <td>1.144240</td>\n",
       "      <td>0.853957</td>\n",
       "      <td>0.853957</td>\n",
       "      <td>0.853957</td>\n",
       "      <td>0.833898</td>\n",
       "      <td>0.833898</td>\n",
       "      <td>4.675683</td>\n",
       "      <td>0.833898</td>\n",
       "      <td>0.853957</td>\n",
       "      <td>0.833898</td>\n",
       "    </tr>\n",
       "    <tr>\n",
       "      <th>25%</th>\n",
       "      <td>1.284642</td>\n",
       "      <td>3.892403</td>\n",
       "      <td>13.423946</td>\n",
       "      <td>12.574596</td>\n",
       "      <td>21.151624</td>\n",
       "      <td>8.712898</td>\n",
       "      <td>6.213396</td>\n",
       "      <td>53.093627</td>\n",
       "      <td>34.009687</td>\n",
       "      <td>54.202100</td>\n",
       "      <td>...</td>\n",
       "      <td>3.805875</td>\n",
       "      <td>1.042783</td>\n",
       "      <td>1.011350</td>\n",
       "      <td>1.011350</td>\n",
       "      <td>1.003337</td>\n",
       "      <td>1.003337</td>\n",
       "      <td>11.186633</td>\n",
       "      <td>1.003337</td>\n",
       "      <td>1.011350</td>\n",
       "      <td>1.003337</td>\n",
       "    </tr>\n",
       "    <tr>\n",
       "      <th>50%</th>\n",
       "      <td>2.104677</td>\n",
       "      <td>6.315551</td>\n",
       "      <td>16.734855</td>\n",
       "      <td>14.586150</td>\n",
       "      <td>23.477006</td>\n",
       "      <td>11.172590</td>\n",
       "      <td>8.703397</td>\n",
       "      <td>63.230911</td>\n",
       "      <td>39.554954</td>\n",
       "      <td>65.510651</td>\n",
       "      <td>...</td>\n",
       "      <td>5.617824</td>\n",
       "      <td>1.339507</td>\n",
       "      <td>1.273861</td>\n",
       "      <td>1.298543</td>\n",
       "      <td>1.252527</td>\n",
       "      <td>1.252527</td>\n",
       "      <td>16.514389</td>\n",
       "      <td>1.252527</td>\n",
       "      <td>1.273861</td>\n",
       "      <td>1.252527</td>\n",
       "    </tr>\n",
       "    <tr>\n",
       "      <th>75%</th>\n",
       "      <td>3.345067</td>\n",
       "      <td>8.916399</td>\n",
       "      <td>21.884325</td>\n",
       "      <td>17.695678</td>\n",
       "      <td>26.471909</td>\n",
       "      <td>13.568625</td>\n",
       "      <td>11.139240</td>\n",
       "      <td>69.880705</td>\n",
       "      <td>50.295756</td>\n",
       "      <td>79.427207</td>\n",
       "      <td>...</td>\n",
       "      <td>7.100942</td>\n",
       "      <td>1.815754</td>\n",
       "      <td>1.647255</td>\n",
       "      <td>1.677971</td>\n",
       "      <td>1.625364</td>\n",
       "      <td>1.611299</td>\n",
       "      <td>21.849385</td>\n",
       "      <td>1.607345</td>\n",
       "      <td>1.647255</td>\n",
       "      <td>1.611299</td>\n",
       "    </tr>\n",
       "    <tr>\n",
       "      <th>max</th>\n",
       "      <td>7.364879</td>\n",
       "      <td>20.006038</td>\n",
       "      <td>60.584449</td>\n",
       "      <td>29.659104</td>\n",
       "      <td>34.110743</td>\n",
       "      <td>27.441093</td>\n",
       "      <td>17.121366</td>\n",
       "      <td>132.144503</td>\n",
       "      <td>327.590426</td>\n",
       "      <td>128.606260</td>\n",
       "      <td>...</td>\n",
       "      <td>11.227770</td>\n",
       "      <td>11.913855</td>\n",
       "      <td>10.883310</td>\n",
       "      <td>11.692697</td>\n",
       "      <td>10.392539</td>\n",
       "      <td>10.640754</td>\n",
       "      <td>49.295538</td>\n",
       "      <td>9.919132</td>\n",
       "      <td>17.278985</td>\n",
       "      <td>9.333904</td>\n",
       "    </tr>\n",
       "  </tbody>\n",
       "</table>\n",
       "<p>8 rows × 15748 columns</p>\n",
       "</div>"
      ],
      "text/plain": [
       "       LOC643837  LOC100130417     SAMD11      NOC2L     KLHL17    PLEKHN1  \\\n",
       "count  72.000000     72.000000  72.000000  72.000000  72.000000  72.000000   \n",
       "mean    2.463922      7.100958  19.056151  15.618688  23.537120  11.303466   \n",
       "std     1.413687      4.164703   9.287753   4.664146   4.475294   4.055122   \n",
       "min     0.833898      1.231043   4.941211   6.395270   8.520713   2.066576   \n",
       "25%     1.284642      3.892403  13.423946  12.574596  21.151624   8.712898   \n",
       "50%     2.104677      6.315551  16.734855  14.586150  23.477006  11.172590   \n",
       "75%     3.345067      8.916399  21.884325  17.695678  26.471909  13.568625   \n",
       "max     7.364879     20.006038  60.584449  29.659104  34.110743  27.441093   \n",
       "\n",
       "        C1orf170        HES4       ISG15        AGRN  ...      CLIC2  \\\n",
       "count  72.000000   72.000000   72.000000   72.000000  ...  72.000000   \n",
       "mean    8.921396   63.270147   53.906324   70.678573  ...   5.563444   \n",
       "std     3.270713   13.792140   45.635498   21.326237  ...   2.389789   \n",
       "min     1.364917   42.544976   24.616767   42.631422  ...   1.144240   \n",
       "25%     6.213396   53.093627   34.009687   54.202100  ...   3.805875   \n",
       "50%     8.703397   63.230911   39.554954   65.510651  ...   5.617824   \n",
       "75%    11.139240   69.880705   50.295756   79.427207  ...   7.100942   \n",
       "max    17.121366  132.144503  327.590426  128.606260  ...  11.227770   \n",
       "\n",
       "          RPS4Y1        ZFY       PRKY      USP9Y      DDX3Y       CD24  \\\n",
       "count  72.000000  72.000000  72.000000  72.000000  72.000000  72.000000   \n",
       "mean    2.192029   1.967424   2.181360   1.729308   1.980733  16.834075   \n",
       "std     2.454218   2.047129   2.542652   1.507149   2.230157   7.126802   \n",
       "min     0.853957   0.853957   0.853957   0.833898   0.833898   4.675683   \n",
       "25%     1.042783   1.011350   1.011350   1.003337   1.003337  11.186633   \n",
       "50%     1.339507   1.273861   1.298543   1.252527   1.252527  16.514389   \n",
       "75%     1.815754   1.647255   1.677971   1.625364   1.611299  21.849385   \n",
       "max    11.913855  10.883310  11.692697  10.392539  10.640754  49.295538   \n",
       "\n",
       "        CYorf15B      KDM5D     EIF1AY  \n",
       "count  72.000000  72.000000  72.000000  \n",
       "mean    1.825827   2.287380   1.756827  \n",
       "std     1.902716   3.185571   1.623151  \n",
       "min     0.833898   0.853957   0.833898  \n",
       "25%     1.003337   1.011350   1.003337  \n",
       "50%     1.252527   1.273861   1.252527  \n",
       "75%     1.607345   1.647255   1.611299  \n",
       "max     9.919132  17.278985   9.333904  \n",
       "\n",
       "[8 rows x 15748 columns]"
      ]
     },
     "execution_count": 3,
     "metadata": {},
     "output_type": "execute_result"
    }
   ],
   "source": [
    "data.describe()"
   ]
  },
  {
   "cell_type": "code",
   "execution_count": 22,
   "metadata": {},
   "outputs": [
    {
     "data": {
      "text/plain": [
       "early neoplasia    25\n",
       "normal             24\n",
       "cancer             23\n",
       "Name: Diagnosis, dtype: int64"
      ]
     },
     "execution_count": 22,
     "metadata": {},
     "output_type": "execute_result"
    }
   ],
   "source": [
    "data.Diagnosis.value_counts()"
   ]
  },
  {
   "cell_type": "code",
   "execution_count": 93,
   "metadata": {},
   "outputs": [],
   "source": [
    "normal=data[data.Diagnosis=='normal'].iloc[:,2:]\n",
    "cancer=data[data.Diagnosis=='cancer'].iloc[:,2:]\n",
    "early_neoplasia=data[data.Diagnosis=='early neoplasia'].iloc[:,2:]"
   ]
  },
  {
   "cell_type": "code",
   "execution_count": 87,
   "metadata": {},
   "outputs": [
    {
     "data": {
      "text/plain": [
       "array([0.41676375, 0.65007209, 0.0674841 , ..., 0.53681403, 0.55976873,\n",
       "       0.63243521])"
      ]
     },
     "execution_count": 87,
     "metadata": {},
     "output_type": "execute_result"
    }
   ],
   "source": [
    "scipy_stats.ttest_ind(normal,early_neoplasia)\n",
    "scipy_stats.ttest_ind(early_neoplasia,cancer)[1]"
   ]
  },
  {
   "cell_type": "code",
   "execution_count": 88,
   "metadata": {},
   "outputs": [],
   "source": [
    "pd.DataFrame?"
   ]
  },
  {
   "cell_type": "code",
   "execution_count": 89,
   "metadata": {},
   "outputs": [],
   "source": [
    "pvalue=pd.DataFrame(index=[0,1],columns=data.columns[2:])"
   ]
  },
  {
   "cell_type": "code",
   "execution_count": 90,
   "metadata": {},
   "outputs": [
    {
     "data": {
      "text/html": [
       "<div>\n",
       "<style scoped>\n",
       "    .dataframe tbody tr th:only-of-type {\n",
       "        vertical-align: middle;\n",
       "    }\n",
       "\n",
       "    .dataframe tbody tr th {\n",
       "        vertical-align: top;\n",
       "    }\n",
       "\n",
       "    .dataframe thead th {\n",
       "        text-align: right;\n",
       "    }\n",
       "</style>\n",
       "<table border=\"1\" class=\"dataframe\">\n",
       "  <thead>\n",
       "    <tr style=\"text-align: right;\">\n",
       "      <th></th>\n",
       "      <th>LOC643837</th>\n",
       "      <th>LOC100130417</th>\n",
       "      <th>SAMD11</th>\n",
       "      <th>NOC2L</th>\n",
       "      <th>KLHL17</th>\n",
       "      <th>PLEKHN1</th>\n",
       "      <th>C1orf170</th>\n",
       "      <th>HES4</th>\n",
       "      <th>ISG15</th>\n",
       "      <th>AGRN</th>\n",
       "      <th>...</th>\n",
       "      <th>CLIC2</th>\n",
       "      <th>RPS4Y1</th>\n",
       "      <th>ZFY</th>\n",
       "      <th>PRKY</th>\n",
       "      <th>USP9Y</th>\n",
       "      <th>DDX3Y</th>\n",
       "      <th>CD24</th>\n",
       "      <th>CYorf15B</th>\n",
       "      <th>KDM5D</th>\n",
       "      <th>EIF1AY</th>\n",
       "    </tr>\n",
       "  </thead>\n",
       "  <tbody>\n",
       "    <tr>\n",
       "      <th>0</th>\n",
       "      <td>NaN</td>\n",
       "      <td>NaN</td>\n",
       "      <td>NaN</td>\n",
       "      <td>NaN</td>\n",
       "      <td>NaN</td>\n",
       "      <td>NaN</td>\n",
       "      <td>NaN</td>\n",
       "      <td>NaN</td>\n",
       "      <td>NaN</td>\n",
       "      <td>NaN</td>\n",
       "      <td>...</td>\n",
       "      <td>NaN</td>\n",
       "      <td>NaN</td>\n",
       "      <td>NaN</td>\n",
       "      <td>NaN</td>\n",
       "      <td>NaN</td>\n",
       "      <td>NaN</td>\n",
       "      <td>NaN</td>\n",
       "      <td>NaN</td>\n",
       "      <td>NaN</td>\n",
       "      <td>NaN</td>\n",
       "    </tr>\n",
       "    <tr>\n",
       "      <th>1</th>\n",
       "      <td>NaN</td>\n",
       "      <td>NaN</td>\n",
       "      <td>NaN</td>\n",
       "      <td>NaN</td>\n",
       "      <td>NaN</td>\n",
       "      <td>NaN</td>\n",
       "      <td>NaN</td>\n",
       "      <td>NaN</td>\n",
       "      <td>NaN</td>\n",
       "      <td>NaN</td>\n",
       "      <td>...</td>\n",
       "      <td>NaN</td>\n",
       "      <td>NaN</td>\n",
       "      <td>NaN</td>\n",
       "      <td>NaN</td>\n",
       "      <td>NaN</td>\n",
       "      <td>NaN</td>\n",
       "      <td>NaN</td>\n",
       "      <td>NaN</td>\n",
       "      <td>NaN</td>\n",
       "      <td>NaN</td>\n",
       "    </tr>\n",
       "  </tbody>\n",
       "</table>\n",
       "<p>2 rows × 15748 columns</p>\n",
       "</div>"
      ],
      "text/plain": [
       "  LOC643837 LOC100130417 SAMD11 NOC2L KLHL17 PLEKHN1 C1orf170 HES4 ISG15 AGRN  \\\n",
       "0       NaN          NaN    NaN   NaN    NaN     NaN      NaN  NaN   NaN  NaN   \n",
       "1       NaN          NaN    NaN   NaN    NaN     NaN      NaN  NaN   NaN  NaN   \n",
       "\n",
       "   ... CLIC2 RPS4Y1  ZFY PRKY USP9Y DDX3Y CD24 CYorf15B KDM5D EIF1AY  \n",
       "0  ...   NaN    NaN  NaN  NaN   NaN   NaN  NaN      NaN   NaN    NaN  \n",
       "1  ...   NaN    NaN  NaN  NaN   NaN   NaN  NaN      NaN   NaN    NaN  \n",
       "\n",
       "[2 rows x 15748 columns]"
      ]
     },
     "execution_count": 90,
     "metadata": {},
     "output_type": "execute_result"
    }
   ],
   "source": [
    "pvalue"
   ]
  },
  {
   "cell_type": "code",
   "execution_count": 91,
   "metadata": {},
   "outputs": [
    {
     "data": {
      "text/html": [
       "<div>\n",
       "<style scoped>\n",
       "    .dataframe tbody tr th:only-of-type {\n",
       "        vertical-align: middle;\n",
       "    }\n",
       "\n",
       "    .dataframe tbody tr th {\n",
       "        vertical-align: top;\n",
       "    }\n",
       "\n",
       "    .dataframe thead th {\n",
       "        text-align: right;\n",
       "    }\n",
       "</style>\n",
       "<table border=\"1\" class=\"dataframe\">\n",
       "  <thead>\n",
       "    <tr style=\"text-align: right;\">\n",
       "      <th></th>\n",
       "      <th>LOC643837</th>\n",
       "      <th>LOC100130417</th>\n",
       "      <th>SAMD11</th>\n",
       "      <th>NOC2L</th>\n",
       "      <th>KLHL17</th>\n",
       "      <th>PLEKHN1</th>\n",
       "      <th>C1orf170</th>\n",
       "      <th>HES4</th>\n",
       "      <th>ISG15</th>\n",
       "      <th>AGRN</th>\n",
       "      <th>...</th>\n",
       "      <th>CLIC2</th>\n",
       "      <th>RPS4Y1</th>\n",
       "      <th>ZFY</th>\n",
       "      <th>PRKY</th>\n",
       "      <th>USP9Y</th>\n",
       "      <th>DDX3Y</th>\n",
       "      <th>CD24</th>\n",
       "      <th>CYorf15B</th>\n",
       "      <th>KDM5D</th>\n",
       "      <th>EIF1AY</th>\n",
       "    </tr>\n",
       "  </thead>\n",
       "  <tbody>\n",
       "    <tr>\n",
       "      <th>0</th>\n",
       "      <td>0.690766</td>\n",
       "      <td>3.17853e-05</td>\n",
       "      <td>0.0602727</td>\n",
       "      <td>0.826429</td>\n",
       "      <td>0.0498762</td>\n",
       "      <td>0.144267</td>\n",
       "      <td>0.329108</td>\n",
       "      <td>0.0237124</td>\n",
       "      <td>0.240148</td>\n",
       "      <td>0.0379328</td>\n",
       "      <td>...</td>\n",
       "      <td>0.463274</td>\n",
       "      <td>0.806008</td>\n",
       "      <td>0.424543</td>\n",
       "      <td>0.740591</td>\n",
       "      <td>0.414922</td>\n",
       "      <td>0.640904</td>\n",
       "      <td>0.830134</td>\n",
       "      <td>0.670395</td>\n",
       "      <td>0.793925</td>\n",
       "      <td>0.661031</td>\n",
       "    </tr>\n",
       "    <tr>\n",
       "      <th>1</th>\n",
       "      <td>0.413735</td>\n",
       "      <td>0.653429</td>\n",
       "      <td>0.0795556</td>\n",
       "      <td>0.287581</td>\n",
       "      <td>0.463292</td>\n",
       "      <td>0.00768133</td>\n",
       "      <td>0.481306</td>\n",
       "      <td>0.57883</td>\n",
       "      <td>0.00074024</td>\n",
       "      <td>0.712687</td>\n",
       "      <td>...</td>\n",
       "      <td>0.107366</td>\n",
       "      <td>0.458907</td>\n",
       "      <td>0.893433</td>\n",
       "      <td>0.467608</td>\n",
       "      <td>0.881584</td>\n",
       "      <td>0.659369</td>\n",
       "      <td>0.330617</td>\n",
       "      <td>0.542939</td>\n",
       "      <td>0.565753</td>\n",
       "      <td>0.63901</td>\n",
       "    </tr>\n",
       "  </tbody>\n",
       "</table>\n",
       "<p>2 rows × 15748 columns</p>\n",
       "</div>"
      ],
      "text/plain": [
       "  LOC643837 LOC100130417     SAMD11     NOC2L     KLHL17     PLEKHN1  \\\n",
       "0  0.690766  3.17853e-05  0.0602727  0.826429  0.0498762    0.144267   \n",
       "1  0.413735     0.653429  0.0795556  0.287581   0.463292  0.00768133   \n",
       "\n",
       "   C1orf170       HES4       ISG15       AGRN  ...     CLIC2    RPS4Y1  \\\n",
       "0  0.329108  0.0237124    0.240148  0.0379328  ...  0.463274  0.806008   \n",
       "1  0.481306    0.57883  0.00074024   0.712687  ...  0.107366  0.458907   \n",
       "\n",
       "        ZFY      PRKY     USP9Y     DDX3Y      CD24  CYorf15B     KDM5D  \\\n",
       "0  0.424543  0.740591  0.414922  0.640904  0.830134  0.670395  0.793925   \n",
       "1  0.893433  0.467608  0.881584  0.659369  0.330617  0.542939  0.565753   \n",
       "\n",
       "     EIF1AY  \n",
       "0  0.661031  \n",
       "1   0.63901  \n",
       "\n",
       "[2 rows x 15748 columns]"
      ]
     },
     "execution_count": 91,
     "metadata": {},
     "output_type": "execute_result"
    }
   ],
   "source": [
    "for i in data.columns[2:]:\n",
    "    normal1=data[data.Diagnosis=='normal'][i]\n",
    "    cancer1=data[data.Diagnosis=='cancer'][i]\n",
    "    early_neoplasia1=data[data.Diagnosis=='early neoplasia'][i]\n",
    "    pvalue.loc[0,i]=scipy_stats.ttest_ind(normal1,early_neoplasia1,equal_var = False)[1]\n",
    "    pvalue.loc[1,i]=scipy_stats.ttest_ind(early_neoplasia1,cancer1,equal_var = False)[1]\n",
    "pvalue"
   ]
  },
  {
   "cell_type": "code",
   "execution_count": 57,
   "metadata": {},
   "outputs": [
    {
     "data": {
      "text/plain": [
       "1575"
      ]
     },
     "execution_count": 57,
     "metadata": {},
     "output_type": "execute_result"
    }
   ],
   "source": [
    "ans1=(pvalue.loc[0,:]<0.05).sum()\n",
    "ans1"
   ]
  },
  {
   "cell_type": "code",
   "execution_count": 134,
   "metadata": {},
   "outputs": [],
   "source": [
    "file=open('c4w4111.txt','w')\n",
    "file.write(str(ans1))\n",
    "file.close()"
   ]
  },
  {
   "cell_type": "code",
   "execution_count": 55,
   "metadata": {},
   "outputs": [],
   "source": [
    "scipy_stats.ttest_ind?"
   ]
  },
  {
   "cell_type": "code",
   "execution_count": 135,
   "metadata": {},
   "outputs": [
    {
     "data": {
      "text/plain": [
       "3490"
      ]
     },
     "execution_count": 135,
     "metadata": {},
     "output_type": "execute_result"
    }
   ],
   "source": [
    "ans12=(pvalue.loc[1,:]<0.05).sum()\n",
    "ans12"
   ]
  },
  {
   "cell_type": "code",
   "execution_count": 136,
   "metadata": {},
   "outputs": [],
   "source": [
    "file=open('c4w4112.txt','w')\n",
    "file.write(str(ans12))\n",
    "file.close()"
   ]
  },
  {
   "cell_type": "markdown",
   "metadata": {},
   "source": [
    "2 задача"
   ]
  },
  {
   "cell_type": "code",
   "execution_count": 59,
   "metadata": {},
   "outputs": [],
   "source": [
    "import statsmodels.stats.multitest as ssm"
   ]
  },
  {
   "cell_type": "code",
   "execution_count": 63,
   "metadata": {},
   "outputs": [
    {
     "data": {
      "text/plain": [
       "LOC643837          0.690766\n",
       "LOC100130417    3.17853e-05\n",
       "SAMD11            0.0602727\n",
       "NOC2L              0.826429\n",
       "KLHL17            0.0498762\n",
       "                   ...     \n",
       "DDX3Y              0.640904\n",
       "CD24               0.830134\n",
       "CYorf15B           0.670395\n",
       "KDM5D              0.793925\n",
       "EIF1AY             0.661031\n",
       "Name: 0, Length: 15748, dtype: object"
      ]
     },
     "execution_count": 63,
     "metadata": {},
     "output_type": "execute_result"
    }
   ],
   "source": [
    "pvalue.loc[0,:]"
   ]
  },
  {
   "cell_type": "code",
   "execution_count": 166,
   "metadata": {},
   "outputs": [],
   "source": [
    "t=ssm.multipletests(pvalue.loc[0,:],0.05/2,method='holm')"
   ]
  },
  {
   "cell_type": "code",
   "execution_count": 167,
   "metadata": {},
   "outputs": [
    {
     "data": {
      "text/plain": [
       "(array([False, False, False, ..., False, False, False]),\n",
       " array([1, 0.500173682936049, 1, ..., 1, 1, 1], dtype=object),\n",
       " 1.6076827300537389e-06,\n",
       " 1.58750317500635e-06)"
      ]
     },
     "execution_count": 167,
     "metadata": {},
     "output_type": "execute_result"
    }
   ],
   "source": [
    "t"
   ]
  },
  {
   "cell_type": "code",
   "execution_count": 168,
   "metadata": {},
   "outputs": [
    {
     "data": {
      "text/plain": [
       "2"
      ]
     },
     "execution_count": 168,
     "metadata": {},
     "output_type": "execute_result"
    }
   ],
   "source": [
    "ans2=(t[1]<0.025).sum()\n",
    "ans2"
   ]
  },
  {
   "cell_type": "code",
   "execution_count": 99,
   "metadata": {},
   "outputs": [
    {
     "data": {
      "text/plain": [
       "LOC643837       1.226534\n",
       "LOC100130417    0.533364\n",
       "SAMD11          0.639844\n",
       "NOC2L           0.933587\n",
       "KLHL17          0.857168\n",
       "                  ...   \n",
       "DDX3Y           0.742138\n",
       "CD24            1.085965\n",
       "CYorf15B        0.730547\n",
       "KDM5D           0.706167\n",
       "EIF1AY          0.789922\n",
       "Length: 15748, dtype: float64"
      ]
     },
     "execution_count": 99,
     "metadata": {},
     "output_type": "execute_result"
    }
   ],
   "source": [
    "normal.mean(axis=0)/cancer.mean(axis=0)"
   ]
  },
  {
   "cell_type": "code",
   "execution_count": 133,
   "metadata": {},
   "outputs": [
    {
     "data": {
      "text/html": [
       "<div>\n",
       "<style scoped>\n",
       "    .dataframe tbody tr th:only-of-type {\n",
       "        vertical-align: middle;\n",
       "    }\n",
       "\n",
       "    .dataframe tbody tr th {\n",
       "        vertical-align: top;\n",
       "    }\n",
       "\n",
       "    .dataframe thead th {\n",
       "        text-align: right;\n",
       "    }\n",
       "</style>\n",
       "<table border=\"1\" class=\"dataframe\">\n",
       "  <thead>\n",
       "    <tr style=\"text-align: right;\">\n",
       "      <th></th>\n",
       "      <th>normal</th>\n",
       "      <th>early_neoplasia</th>\n",
       "      <th>cancer</th>\n",
       "      <th>nor_neo</th>\n",
       "      <th>neo_can</th>\n",
       "    </tr>\n",
       "  </thead>\n",
       "  <tbody>\n",
       "    <tr>\n",
       "      <th>LOC643837</th>\n",
       "      <td>2.681277</td>\n",
       "      <td>2.510894</td>\n",
       "      <td>2.186060</td>\n",
       "      <td>1.067858</td>\n",
       "      <td>1.148593</td>\n",
       "    </tr>\n",
       "    <tr>\n",
       "      <th>LOC100130417</th>\n",
       "      <td>4.368497</td>\n",
       "      <td>8.721781</td>\n",
       "      <td>8.190456</td>\n",
       "      <td>1.996517</td>\n",
       "      <td>1.064871</td>\n",
       "    </tr>\n",
       "    <tr>\n",
       "      <th>SAMD11</th>\n",
       "      <td>15.159566</td>\n",
       "      <td>18.531325</td>\n",
       "      <td>23.692614</td>\n",
       "      <td>1.222418</td>\n",
       "      <td>1.278517</td>\n",
       "    </tr>\n",
       "    <tr>\n",
       "      <th>NOC2L</th>\n",
       "      <td>15.374351</td>\n",
       "      <td>15.071854</td>\n",
       "      <td>16.468034</td>\n",
       "      <td>1.020070</td>\n",
       "      <td>1.092635</td>\n",
       "    </tr>\n",
       "    <tr>\n",
       "      <th>KLHL17</th>\n",
       "      <td>21.459886</td>\n",
       "      <td>24.152469</td>\n",
       "      <td>25.035813</td>\n",
       "      <td>1.125471</td>\n",
       "      <td>1.036574</td>\n",
       "    </tr>\n",
       "    <tr>\n",
       "      <th>...</th>\n",
       "      <td>...</td>\n",
       "      <td>...</td>\n",
       "      <td>...</td>\n",
       "      <td>...</td>\n",
       "      <td>...</td>\n",
       "    </tr>\n",
       "    <tr>\n",
       "      <th>DDX3Y</th>\n",
       "      <td>1.701654</td>\n",
       "      <td>1.961449</td>\n",
       "      <td>2.292908</td>\n",
       "      <td>1.152672</td>\n",
       "      <td>1.168987</td>\n",
       "    </tr>\n",
       "    <tr>\n",
       "      <th>CD24</th>\n",
       "      <td>17.106405</td>\n",
       "      <td>17.567902</td>\n",
       "      <td>15.752268</td>\n",
       "      <td>1.026978</td>\n",
       "      <td>1.115262</td>\n",
       "    </tr>\n",
       "    <tr>\n",
       "      <th>CYorf15B</th>\n",
       "      <td>1.576004</td>\n",
       "      <td>1.760707</td>\n",
       "      <td>2.157294</td>\n",
       "      <td>1.117197</td>\n",
       "      <td>1.225243</td>\n",
       "    </tr>\n",
       "    <tr>\n",
       "      <th>KDM5D</th>\n",
       "      <td>1.960442</td>\n",
       "      <td>2.151549</td>\n",
       "      <td>2.776173</td>\n",
       "      <td>1.097481</td>\n",
       "      <td>1.290314</td>\n",
       "    </tr>\n",
       "    <tr>\n",
       "      <th>EIF1AY</th>\n",
       "      <td>1.568210</td>\n",
       "      <td>1.727730</td>\n",
       "      <td>1.985272</td>\n",
       "      <td>1.101721</td>\n",
       "      <td>1.149064</td>\n",
       "    </tr>\n",
       "  </tbody>\n",
       "</table>\n",
       "<p>15748 rows × 5 columns</p>\n",
       "</div>"
      ],
      "text/plain": [
       "                 normal  early_neoplasia     cancer   nor_neo   neo_can\n",
       "LOC643837      2.681277         2.510894   2.186060  1.067858  1.148593\n",
       "LOC100130417   4.368497         8.721781   8.190456  1.996517  1.064871\n",
       "SAMD11        15.159566        18.531325  23.692614  1.222418  1.278517\n",
       "NOC2L         15.374351        15.071854  16.468034  1.020070  1.092635\n",
       "KLHL17        21.459886        24.152469  25.035813  1.125471  1.036574\n",
       "...                 ...              ...        ...       ...       ...\n",
       "DDX3Y          1.701654         1.961449   2.292908  1.152672  1.168987\n",
       "CD24          17.106405        17.567902  15.752268  1.026978  1.115262\n",
       "CYorf15B       1.576004         1.760707   2.157294  1.117197  1.225243\n",
       "KDM5D          1.960442         2.151549   2.776173  1.097481  1.290314\n",
       "EIF1AY         1.568210         1.727730   1.985272  1.101721  1.149064\n",
       "\n",
       "[15748 rows x 5 columns]"
      ]
     },
     "execution_count": 133,
     "metadata": {},
     "output_type": "execute_result"
    }
   ],
   "source": [
    "\n",
    "means=pd.concat([normal.mean(axis=0), early_neoplasia.mean(axis=0),cancer.mean(axis=0)], axis=1, join='inner')\n",
    "means.columns=columns=['normal', 'early_neoplasia','cancer']\n",
    "\n",
    "means.loc[means.normal>means.early_neoplasia,'nor_neo']=means.normal/means.early_neoplasia\n",
    "means.loc[means.normal<=means.early_neoplasia,'nor_neo']=means.early_neoplasia/means.normal\n",
    "\n",
    "means.loc[means.early_neoplasia>means.cancer,'neo_can']=means.early_neoplasia/means.cancer\n",
    "means.loc[means.early_neoplasia<=means.cancer,'neo_can']=means.cancer/means.early_neoplasia\n",
    "means"
   ]
  },
  {
   "cell_type": "code",
   "execution_count": 169,
   "metadata": {},
   "outputs": [
    {
     "data": {
      "text/plain": [
       "2"
      ]
     },
     "execution_count": 169,
     "metadata": {},
     "output_type": "execute_result"
    }
   ],
   "source": [
    "ans21=sum(np.array((means.nor_neo)>1.5)& (t[1]<0.025) )\n",
    "ans21"
   ]
  },
  {
   "cell_type": "code",
   "execution_count": 170,
   "metadata": {},
   "outputs": [],
   "source": [
    "writed('c4w4121.txt',ans21)"
   ]
  },
  {
   "cell_type": "code",
   "execution_count": 172,
   "metadata": {},
   "outputs": [
    {
     "data": {
      "text/plain": [
       "2"
      ]
     },
     "execution_count": 172,
     "metadata": {},
     "output_type": "execute_result"
    }
   ],
   "source": [
    "sum(t[0])"
   ]
  },
  {
   "cell_type": "code",
   "execution_count": 176,
   "metadata": {},
   "outputs": [
    {
     "data": {
      "text/plain": [
       "79"
      ]
     },
     "execution_count": 176,
     "metadata": {},
     "output_type": "execute_result"
    }
   ],
   "source": [
    "t2=ssm.multipletests(pvalue.loc[1,:],0.05/2,method='holm')\n",
    "sum(t2[0])"
   ]
  },
  {
   "cell_type": "code",
   "execution_count": 177,
   "metadata": {},
   "outputs": [
    {
     "data": {
      "text/plain": [
       "77"
      ]
     },
     "execution_count": 177,
     "metadata": {},
     "output_type": "execute_result"
    }
   ],
   "source": [
    "ans22=sum(np.array((means.neo_can)>1.5)& (t2[1]<0.025) )\n",
    "ans22"
   ]
  },
  {
   "cell_type": "code",
   "execution_count": 178,
   "metadata": {},
   "outputs": [],
   "source": [
    "writed('c4w4122.txt',ans22)"
   ]
  },
  {
   "cell_type": "markdown",
   "metadata": {},
   "source": [
    "3 часть"
   ]
  },
  {
   "cell_type": "code",
   "execution_count": 180,
   "metadata": {},
   "outputs": [],
   "source": [
    "ssm.multipletests?"
   ]
  },
  {
   "cell_type": "code",
   "execution_count": 192,
   "metadata": {},
   "outputs": [],
   "source": [
    "t31=ssm.multipletests(pvalue.loc[0,:],0.05/2,method='fdr_bh')"
   ]
  },
  {
   "cell_type": "code",
   "execution_count": 193,
   "metadata": {},
   "outputs": [
    {
     "data": {
      "text/plain": [
       "4"
      ]
     },
     "execution_count": 193,
     "metadata": {},
     "output_type": "execute_result"
    }
   ],
   "source": [
    "t31[0].sum()"
   ]
  },
  {
   "cell_type": "code",
   "execution_count": 194,
   "metadata": {},
   "outputs": [
    {
     "data": {
      "text/plain": [
       "4"
      ]
     },
     "execution_count": 194,
     "metadata": {},
     "output_type": "execute_result"
    }
   ],
   "source": [
    "ans31=sum(np.array((means.nor_neo)>1.5)& (t31[0]) )\n",
    "ans31"
   ]
  },
  {
   "cell_type": "code",
   "execution_count": 196,
   "metadata": {},
   "outputs": [
    {
     "data": {
      "text/plain": [
       "832"
      ]
     },
     "execution_count": 196,
     "metadata": {},
     "output_type": "execute_result"
    }
   ],
   "source": [
    "t32=ssm.multipletests(pvalue.loc[1,:],0.05/2,method='fdr_bh')\n",
    "t32[0].sum()"
   ]
  },
  {
   "cell_type": "code",
   "execution_count": 197,
   "metadata": {},
   "outputs": [
    {
     "data": {
      "text/plain": [
       "524"
      ]
     },
     "execution_count": 197,
     "metadata": {},
     "output_type": "execute_result"
    }
   ],
   "source": [
    "ans32=sum(np.array((means.neo_can)>1.5)& (t32[0]) )\n",
    "ans32"
   ]
  },
  {
   "cell_type": "code",
   "execution_count": 198,
   "metadata": {},
   "outputs": [],
   "source": [
    "writed('c4w4131.txt',ans31)\n",
    "writed('c4w4132.txt',ans32)"
   ]
  },
  {
   "cell_type": "code",
   "execution_count": null,
   "metadata": {},
   "outputs": [],
   "source": []
  },
  {
   "cell_type": "code",
   "execution_count": null,
   "metadata": {},
   "outputs": [],
   "source": []
  },
  {
   "cell_type": "code",
   "execution_count": null,
   "metadata": {},
   "outputs": [],
   "source": []
  }
 ],
 "metadata": {
  "kernelspec": {
   "display_name": "Python 3",
   "language": "python",
   "name": "python3"
  },
  "language_info": {
   "codemirror_mode": {
    "name": "ipython",
    "version": 3
   },
   "file_extension": ".py",
   "mimetype": "text/x-python",
   "name": "python",
   "nbconvert_exporter": "python",
   "pygments_lexer": "ipython3",
   "version": "3.7.6"
  }
 },
 "nbformat": 4,
 "nbformat_minor": 4
}
