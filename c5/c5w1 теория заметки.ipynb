{
 "cells": [
  {
   "cell_type": "raw",
   "metadata": {},
   "source": [
    "AR, MA, ARMA(p,q),<br> ARIMA(p,d,q) - d-количество дифференцирований (разности значения т и т-1) <br>\n",
    "SARMA (pq) * (P,Q) - добавляют в модель P сезонных компонент авторегрессии и Q сезонных компонент скользящего среднего\n",
    "SARIMA (pdq)*(P,D,Q) - d- раз обычное дифференцирование и D раз сезонное дифференцирование"
   ]
  },
  {
   "cell_type": "markdown",
   "metadata": {},
   "source": [
    "<b>Критерием Дики-Фуллера</b> - проверяем гипотезу стационарности. Так как методы указанные выше только для стационарных $H_0$ - нестационарны данные<br>\n",
    "<b>Преобразование Бокса-Кокса</b> - помогает приблизиться к стационарности(например при логарифмировании можно избавиться от роста дисперсии)<br>\n",
    "<b>Дифференцирование</b> - также помогает приблизиться к стационарности\n",
    "<b>критерий Акаике</b> - используется для подбора p,q,P,Q"
   ]
  },
  {
   "cell_type": "markdown",
   "metadata": {},
   "source": [
    "c5w11 - Прогнозирование уровня заработной платы"
   ]
  },
  {
   "cell_type": "code",
   "execution_count": null,
   "metadata": {},
   "outputs": [],
   "source": []
  },
  {
   "cell_type": "code",
   "execution_count": null,
   "metadata": {},
   "outputs": [],
   "source": []
  },
  {
   "cell_type": "code",
   "execution_count": null,
   "metadata": {},
   "outputs": [],
   "source": []
  }
 ],
 "metadata": {
  "kernelspec": {
   "display_name": "Python 3",
   "language": "python",
   "name": "python3"
  },
  "language_info": {
   "codemirror_mode": {
    "name": "ipython",
    "version": 3
   },
   "file_extension": ".py",
   "mimetype": "text/x-python",
   "name": "python",
   "nbconvert_exporter": "python",
   "pygments_lexer": "ipython3",
   "version": "3.7.6"
  }
 },
 "nbformat": 4,
 "nbformat_minor": 4
}
